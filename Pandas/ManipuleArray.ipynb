{
 "cells": [
  {
   "attachments": {},
   "cell_type": "markdown",
   "metadata": {},
   "source": [
    "# Manupule Array"
   ]
  },
  {
   "cell_type": "code",
   "execution_count": 45,
   "metadata": {},
   "outputs": [],
   "source": [
    "import numpy as np\n",
    "import random"
   ]
  },
  {
   "attachments": {},
   "cell_type": "markdown",
   "metadata": {},
   "source": [
    "### Create  array"
   ]
  },
  {
   "cell_type": "code",
   "execution_count": 2,
   "metadata": {},
   "outputs": [
    {
     "name": "stdout",
     "output_type": "stream",
     "text": [
      "mon_array =  [1 2 3 4 5]\n"
     ]
    }
   ],
   "source": [
    "mon_array = np.array([1,2,3,4,5])\n",
    "print(\"mon_array = \",mon_array)"
   ]
  },
  {
   "attachments": {},
   "cell_type": "markdown",
   "metadata": {},
   "source": [
    "### Ajout de valeurs en array en 1D"
   ]
  },
  {
   "cell_type": "code",
   "execution_count": 7,
   "metadata": {},
   "outputs": [
    {
     "name": "stdout",
     "output_type": "stream",
     "text": [
      "appended_array : \n",
      " [1 2 3 4 5 1 2 3]\n"
     ]
    }
   ],
   "source": [
    "appended_array = np.append(mon_array, np.array([1, 2, 3]))\n",
    "\n",
    "print(\"appended_array : \\n\",appended_array)"
   ]
  },
  {
   "attachments": {},
   "cell_type": "markdown",
   "metadata": {},
   "source": [
    "### Ajout de valeurs en array en 2D"
   ]
  },
  {
   "cell_type": "code",
   "execution_count": 22,
   "metadata": {},
   "outputs": [
    {
     "name": "stdout",
     "output_type": "stream",
     "text": [
      "mon_array2d : \n",
      " [[ 1 82]\n",
      " [67 26]\n",
      " [88 95]]\n",
      " \n",
      " appended_array2d : \n",
      " [[ 1 82]\n",
      " [67 26]\n",
      " [88 95]\n",
      " [12 12]\n",
      " [12 12]]\n",
      " \n",
      " appended_bis_array2d : \n",
      " [[ 1 82 12 12]\n",
      " [67 26 12 12]\n",
      " [88 95 12 12]\n",
      " [12 12 12 12]\n",
      " [12 12 12 12]]\n"
     ]
    }
   ],
   "source": [
    "mon_array2d = np.random.randint(0,100, size = (3 ,2))\n",
    "print(\"mon_array2d : \\n\", mon_array2d)\n",
    "\n",
    "#Ajout\n",
    "appended_array2d = np.append(mon_array2d, [[12,12],[12,12]],axis=0)\n",
    "print(\" \\n appended_array2d : \\n\", appended_array2d)\n",
    "\n",
    "appended_bis_array2d = np.append(appended_array2d, [[12,12],[12,12],[12,12],[12,12],[12,12]],axis=1)\n",
    "print(\" \\n appended_bis_array2d : \\n\", appended_bis_array2d)"
   ]
  },
  {
   "attachments": {},
   "cell_type": "markdown",
   "metadata": {},
   "source": [
    "### Suppression de données"
   ]
  },
  {
   "cell_type": "code",
   "execution_count": 42,
   "metadata": {},
   "outputs": [
    {
     "name": "stdout",
     "output_type": "stream",
     "text": [
      "mon_array : \n",
      " [86 72 91 58  1 43 99  6 36 20]\n",
      "\n",
      " mon_array_removed : \n",
      " [86 72 58 43  6 20]\n"
     ]
    }
   ],
   "source": [
    "mon_array = np.random.randint(0,100,10)\n",
    "print(\"mon_array : \\n\", mon_array)\n",
    "\n",
    "mon_array_removed = np.delete(mon_array, [2,4,6,8])\n",
    "print(\"\\n mon_array_removed : \\n\", mon_array_removed)"
   ]
  },
  {
   "attachments": {},
   "cell_type": "markdown",
   "metadata": {},
   "source": [
    "### "
   ]
  },
  {
   "cell_type": "code",
   "execution_count": 103,
   "metadata": {},
   "outputs": [
    {
     "name": "stdout",
     "output_type": "stream",
     "text": [
      "random_array : \n",
      " [[12 10]\n",
      " [17 18]\n",
      " [12 11]]\n",
      "\n",
      " reshaped_array : \n",
      " [[12 10 17]\n",
      " [18 12 11]]\n"
     ]
    }
   ],
   "source": [
    "random.seed(0)\n",
    "\n",
    "random_array = np.random.randint(10,20, size = (3 ,2))\n",
    "print(\"random_array : \\n\", random_array)\n",
    "reshaped_array = np.reshape(random_array, newshape=(2,3))\n",
    "print(\"\\n reshaped_array : \\n\", reshaped_array)"
   ]
  },
  {
   "attachments": {},
   "cell_type": "markdown",
   "metadata": {},
   "source": [
    "### Passage de 2D en 1D"
   ]
  },
  {
   "cell_type": "code",
   "execution_count": 104,
   "metadata": {},
   "outputs": [
    {
     "name": "stdout",
     "output_type": "stream",
     "text": [
      "new_shape_array =  [12 10 17 18 12 11]\n"
     ]
    }
   ],
   "source": [
    "new_shape_array = np.reshape(random_array, (6))\n",
    "print(\"new_shape_array = \", new_shape_array)"
   ]
  },
  {
   "attachments": {},
   "cell_type": "markdown",
   "metadata": {},
   "source": [
    "### Passage de 1D en 2D"
   ]
  },
  {
   "cell_type": "code",
   "execution_count": 105,
   "metadata": {},
   "outputs": [
    {
     "name": "stdout",
     "output_type": "stream",
     "text": [
      "random_array2 : \n",
      " [14 16 17 19 13 19 13 11 11 19]\n",
      "\n",
      " reshaped_array2 : \n",
      " [[14 16]\n",
      " [17 19]\n",
      " [13 19]\n",
      " [13 11]\n",
      " [11 19]]\n"
     ]
    }
   ],
   "source": [
    "random_array2 = np.random.randint(10,20,10)\n",
    "print(\"random_array2 : \\n\", random_array2)\n",
    "reshaped_array2 = np.reshape(random_array2,(5,2))\n",
    "print(\"\\n reshaped_array2 : \\n\", reshaped_array2)"
   ]
  },
  {
   "attachments": {},
   "cell_type": "markdown",
   "metadata": {},
   "source": [
    "### Dimension -1 dans un reshape"
   ]
  },
  {
   "cell_type": "code",
   "execution_count": 108,
   "metadata": {},
   "outputs": [
    {
     "name": "stdout",
     "output_type": "stream",
     "text": [
      "random_array3 : \n",
      " [[15 16]\n",
      " [18 15]\n",
      " [19 18]\n",
      " [10 16]]\n",
      "reshaped_array3 : \n",
      " [[15 16 18 15]\n",
      " [19 18 10 16]]\n"
     ]
    }
   ],
   "source": [
    "random_array3 = np.random.randint(10,20,(4,2))\n",
    "print(\"random_array3 : \\n\", random_array3)\n",
    "reshaped_array3 = random_array3.reshape(-1,4)\n",
    "print(\"reshaped_array3 : \\n\", reshaped_array3)"
   ]
  },
  {
   "attachments": {},
   "cell_type": "markdown",
   "metadata": {},
   "source": [
    "### Flatering array 2D"
   ]
  },
  {
   "cell_type": "code",
   "execution_count": 109,
   "metadata": {},
   "outputs": [
    {
     "name": "stdout",
     "output_type": "stream",
     "text": [
      "[15 16 18 15 19 18 10 16]\n"
     ]
    }
   ],
   "source": [
    "print(np.ndarray.flatten(random_array3))"
   ]
  },
  {
   "cell_type": "code",
   "execution_count": 111,
   "metadata": {},
   "outputs": [
    {
     "name": "stdout",
     "output_type": "stream",
     "text": [
      "[15 16 18 15 19 18 10 16]\n"
     ]
    }
   ],
   "source": [
    "print(np.matrix.flatten(random_array3))"
   ]
  },
  {
   "attachments": {},
   "cell_type": "markdown",
   "metadata": {},
   "source": [
    "### Triage des tableaux"
   ]
  },
  {
   "cell_type": "code",
   "execution_count": 114,
   "metadata": {},
   "outputs": [
    {
     "name": "stdout",
     "output_type": "stream",
     "text": [
      "random_array4 : \n",
      " [[11 13 19]\n",
      " [11 12 16]\n",
      " [14 15 19]\n",
      " [10 18 14]]\n",
      "\n",
      " arranged_array : \n",
      " [[10 12 14]\n",
      " [11 13 16]\n",
      " [11 15 19]\n",
      " [14 18 19]]\n",
      "\n",
      " arranged_array2 : \n",
      " [[11 13 19]\n",
      " [11 12 16]\n",
      " [14 15 19]\n",
      " [10 14 18]]\n"
     ]
    }
   ],
   "source": [
    "random_array4 = np.random.randint(10,20,(4,3))\n",
    "print(\"random_array4 : \\n\", random_array4)\n",
    "\n",
    "arranged_array = np.sort(random_array4, axis = 0)\n",
    "print(\"\\n arranged_array : \\n\", arranged_array)\n",
    "\n",
    "arranged_array2 = np.sort(random_array4, axis = 1)\n",
    "print(\"\\n arranged_array2 : \\n\", arranged_array2)"
   ]
  },
  {
   "attachments": {},
   "cell_type": "markdown",
   "metadata": {},
   "source": [
    "### Rotation d'array"
   ]
  },
  {
   "cell_type": "code",
   "execution_count": 120,
   "metadata": {},
   "outputs": [
    {
     "name": "stdout",
     "output_type": "stream",
     "text": [
      "rotate_array:\n",
      " [[1 2]\n",
      " [3 4]\n",
      " [5 6]]\n",
      "\n",
      " rotation_sens_antihoraire:\n",
      " [[2 4 6]\n",
      " [1 3 5]]\n",
      "\n",
      " rotation_sens_horaire:\n",
      " [[5 3 1]\n",
      " [6 4 2]]\n",
      "\n",
      " rotation_sens_antihoraire x2:\n",
      " [[6 5]\n",
      " [4 3]\n",
      " [2 1]]\n",
      "\n",
      " rotation_sens_horaire x2:\n",
      " [[6 5]\n",
      " [4 3]\n",
      " [2 1]]\n"
     ]
    }
   ],
   "source": [
    "rotate_array = np.array([[1, 2], [3, 4], [5, 6]])  \n",
    "print(\"rotate_array:\\n\", rotate_array)\n",
    "\n",
    "print(\"\\n rotation_sens_antihoraire:\\n\", np.rot90(rotate_array, k=1 , axes=(0,1))) # k le nombre de rotations et (0,1) pour la rotation \n",
    "print(\"\\n rotation_sens_horaire:\\n\", np.rot90(rotate_array, k=1 , axes=(1,0)))\n",
    "print(\"\\n rotation_sens_antihoraire x2:\\n\", np.rot90(rotate_array, k=2 , axes=(0,1))) \n",
    "print(\"\\n rotation_sens_horaire x2:\\n\", np.rot90(rotate_array, k=2 , axes=(1,0)))"
   ]
  }
 ],
 "metadata": {
  "kernelspec": {
   "display_name": "Python 3",
   "language": "python",
   "name": "python3"
  },
  "language_info": {
   "codemirror_mode": {
    "name": "ipython",
    "version": 3
   },
   "file_extension": ".py",
   "mimetype": "text/x-python",
   "name": "python",
   "nbconvert_exporter": "python",
   "pygments_lexer": "ipython3",
   "version": "3.11.0"
  },
  "orig_nbformat": 4
 },
 "nbformat": 4,
 "nbformat_minor": 2
}
