{
 "cells": [
  {
   "attachments": {},
   "cell_type": "markdown",
   "metadata": {},
   "source": [
    "# Opérations sur les Matrices"
   ]
  },
  {
   "cell_type": "code",
   "execution_count": 1,
   "metadata": {},
   "outputs": [],
   "source": [
    "import numpy as np"
   ]
  },
  {
   "attachments": {},
   "cell_type": "markdown",
   "metadata": {},
   "source": [
    "### Addition et soustraction de matrices"
   ]
  },
  {
   "cell_type": "code",
   "execution_count": 2,
   "metadata": {},
   "outputs": [
    {
     "name": "stdout",
     "output_type": "stream",
     "text": [
      "mat1 : \n",
      " [[4 4 6]\n",
      " [7 1 7]\n",
      " [9 5 9]]\n",
      "\n",
      " mat2 : \n",
      " [[15 15 11]\n",
      " [12 11 14]\n",
      " [12 13 11]]\n"
     ]
    }
   ],
   "source": [
    "mat1 = np.random.randint(1,10,(3,3))\n",
    "print(\"mat1 : \\n\", mat1)\n",
    "mat2 = np.random.randint(11,20,(3,3))\n",
    "print(\"\\n mat2 : \\n\", mat2)"
   ]
  },
  {
   "cell_type": "code",
   "execution_count": 4,
   "metadata": {},
   "outputs": [
    {
     "name": "stdout",
     "output_type": "stream",
     "text": [
      "addition de mat1 et mat2 : \n",
      "  [[19 19 17]\n",
      " [19 12 21]\n",
      " [21 18 20]]\n"
     ]
    }
   ],
   "source": [
    "print(\"addition de mat1 et mat2 : \\n \", mat1 + mat2)\n",
    "# print(\"addition de mat1 et mat2 : \\n \", np.add(mat1, mat2)) => same shit"
   ]
  },
  {
   "cell_type": "code",
   "execution_count": 5,
   "metadata": {},
   "outputs": [
    {
     "name": "stdout",
     "output_type": "stream",
     "text": [
      "addition de mat1 et mat2 : \n",
      "  [[-11 -11  -5]\n",
      " [ -5 -10  -7]\n",
      " [ -3  -8  -2]]\n"
     ]
    }
   ],
   "source": [
    "print(\"soustraction de mat1 et mat2 : \\n \", mat1 - mat2)\n",
    "# print(\"soustraction de mat1 et mat2 : \\n \", np.subtract(mat1 - mat2)) => same shit"
   ]
  },
  {
   "attachments": {},
   "cell_type": "markdown",
   "metadata": {},
   "source": [
    "### Produit matricielle"
   ]
  },
  {
   "cell_type": "code",
   "execution_count": 6,
   "metadata": {},
   "outputs": [
    {
     "name": "stdout",
     "output_type": "stream",
     "text": [
      "mat3 : \n",
      " [[9 3 7]\n",
      " [5 4 7]]\n",
      "\n",
      " mat4 : \n",
      " [[13 15]\n",
      " [17 16]\n",
      " [13 18]]\n"
     ]
    }
   ],
   "source": [
    "mat3 = np.random.randint(1,10,(2,3))\n",
    "print(\"mat3 : \\n\", mat3)\n",
    "mat4 = np.random.randint(11,20,(3,2))\n",
    "print(\"\\n mat4 : \\n\", mat4)"
   ]
  },
  {
   "cell_type": "code",
   "execution_count": 11,
   "metadata": {},
   "outputs": [
    {
     "name": "stdout",
     "output_type": "stream",
     "text": [
      "produit matricielle : \n",
      " [[259 309]\n",
      " [224 265]]\n"
     ]
    }
   ],
   "source": [
    "print(\"produit matricielle : \\n\", np.matmul(mat3, mat4))\n",
    "# print(\"produit matricielle : \\n\", np.dot(mat3, mat4)) => same shit"
   ]
  },
  {
   "attachments": {},
   "cell_type": "markdown",
   "metadata": {},
   "source": []
  },
  {
   "cell_type": "code",
   "execution_count": null,
   "metadata": {},
   "outputs": [],
   "source": []
  }
 ],
 "metadata": {
  "kernelspec": {
   "display_name": "Python 3",
   "language": "python",
   "name": "python3"
  },
  "language_info": {
   "codemirror_mode": {
    "name": "ipython",
    "version": 3
   },
   "file_extension": ".py",
   "mimetype": "text/x-python",
   "name": "python",
   "nbconvert_exporter": "python",
   "pygments_lexer": "ipython3",
   "version": "3.11.0"
  },
  "orig_nbformat": 4
 },
 "nbformat": 4,
 "nbformat_minor": 2
}
