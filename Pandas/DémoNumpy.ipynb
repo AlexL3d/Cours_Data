{
 "cells": [
  {
   "attachments": {},
   "cell_type": "markdown",
   "metadata": {},
   "source": [
    "# Numpy"
   ]
  },
  {
   "attachments": {},
   "cell_type": "markdown",
   "metadata": {},
   "source": [
    "### Importation des librairies"
   ]
  },
  {
   "cell_type": "code",
   "execution_count": 63,
   "metadata": {},
   "outputs": [],
   "source": [
    "import numpy as np\n",
    "import random"
   ]
  },
  {
   "attachments": {},
   "cell_type": "markdown",
   "metadata": {},
   "source": [
    "### Create an array"
   ]
  },
  {
   "cell_type": "code",
   "execution_count": 11,
   "metadata": {},
   "outputs": [
    {
     "name": "stdout",
     "output_type": "stream",
     "text": [
      "array1 :  [] <class 'numpy.ndarray'>\n"
     ]
    },
    {
     "data": {
      "text/plain": [
       "(0,)"
      ]
     },
     "execution_count": 11,
     "metadata": {},
     "output_type": "execute_result"
    }
   ],
   "source": [
    "mon_array1 = np.array([])\n",
    "print(\"array1 : \",mon_array1,type(mon_array1))\n",
    "mon_array1.shape #Ici tableau vide => 0 dimension"
   ]
  },
  {
   "attachments": {},
   "cell_type": "markdown",
   "metadata": {},
   "source": [
    "### avec des valeurs : en 1D"
   ]
  },
  {
   "cell_type": "code",
   "execution_count": 12,
   "metadata": {},
   "outputs": [
    {
     "name": "stdout",
     "output_type": "stream",
     "text": [
      "mon_array2 :  [1 2 3 4 5] <class 'numpy.ndarray'>\n"
     ]
    },
    {
     "data": {
      "text/plain": [
       "(5,)"
      ]
     },
     "execution_count": 12,
     "metadata": {},
     "output_type": "execute_result"
    }
   ],
   "source": [
    "mon_array2 = np.array([1,2,3,4,5])\n",
    "print(\"mon_array2 : \", mon_array2, type(mon_array2))\n",
    "mon_array2.shape"
   ]
  },
  {
   "attachments": {},
   "cell_type": "markdown",
   "metadata": {},
   "source": [
    "### avec des valeurs : en 2D"
   ]
  },
  {
   "cell_type": "code",
   "execution_count": 13,
   "metadata": {},
   "outputs": [
    {
     "name": "stdout",
     "output_type": "stream",
     "text": [
      "mon_array3 :  [[ 1  2  3  4  5]\n",
      " [ 6  7  8  9 10]] <class 'numpy.ndarray'>\n"
     ]
    },
    {
     "data": {
      "text/plain": [
       "(2, 5)"
      ]
     },
     "execution_count": 13,
     "metadata": {},
     "output_type": "execute_result"
    }
   ],
   "source": [
    "mon_array3 = np.array([[1,2,3,4,5],[6,7,8,9,10]])\n",
    "print(\"mon_array3 : \", mon_array3, type(mon_array3))\n",
    "mon_array3.shape # Ici 2 lignes, 5 colonnes"
   ]
  },
  {
   "attachments": {},
   "cell_type": "markdown",
   "metadata": {},
   "source": [
    "### avec des valeurs : en 3D"
   ]
  },
  {
   "cell_type": "code",
   "execution_count": 14,
   "metadata": {},
   "outputs": [
    {
     "name": "stdout",
     "output_type": "stream",
     "text": [
      "mon_array4 :  [[[ 1  2  3  4  5]\n",
      "  [ 6  7  8  9 10]]\n",
      "\n",
      " [[11 12 13 14 15]\n",
      "  [16 17 18 19 20]]] <class 'numpy.ndarray'>\n"
     ]
    },
    {
     "data": {
      "text/plain": [
       "(2, 2, 5)"
      ]
     },
     "execution_count": 14,
     "metadata": {},
     "output_type": "execute_result"
    }
   ],
   "source": [
    "mon_array4 = np.array([[[1,2,3,4,5],[6,7,8,9,10]],[[11,12,13,14,15],[16,17,18,19,20]]])\n",
    "print(\"mon_array4 : \", mon_array4, type(mon_array4))\n",
    "mon_array4.shape"
   ]
  },
  {
   "attachments": {},
   "cell_type": "markdown",
   "metadata": {},
   "source": [
    "### Numpy avec valeurs random"
   ]
  },
  {
   "cell_type": "code",
   "execution_count": 61,
   "metadata": {},
   "outputs": [
    {
     "name": "stdout",
     "output_type": "stream",
     "text": [
      "random_array de shape ( (4, 2, 2) ) : \n",
      " [[[ 18 957]\n",
      "  [ 18 136]]\n",
      "\n",
      " [[ 51 997]\n",
      "  [ 32 310]]\n",
      "\n",
      " [[ 70 256]\n",
      "  [ 37 301]]\n",
      "\n",
      " [[ 21 580]\n",
      "  [ 95 454]]] <class 'numpy.ndarray'>\n",
      "\n",
      " nom_array de shape ( (2, 2) ) : \n",
      " [[0.27886438 0.11742865]\n",
      " [0.09735556 0.27722016]] <class 'numpy.ndarray'>\n"
     ]
    }
   ],
   "source": [
    "random_array = np.random.randint(low = [10,100], high = [99,1000], size = (4, 2 ,2))\n",
    "print(\"random_array de shape (\",random_array.shape,\") : \\n\",random_array,type(random_array))\n",
    "\n",
    "nom_array = np.random.rand(2,2)\n",
    "print(\"\\n nom_array de shape (\",nom_array.shape,\") : \\n\",nom_array,type(nom_array))"
   ]
  },
  {
   "attachments": {},
   "cell_type": "markdown",
   "metadata": {},
   "source": [
    "### tableau de zéros"
   ]
  },
  {
   "cell_type": "code",
   "execution_count": 65,
   "metadata": {},
   "outputs": [
    {
     "name": "stdout",
     "output_type": "stream",
     "text": [
      "zero_array de shape  (2, 3)  : \n",
      " [[0. 0. 0.]\n",
      " [0. 0. 0.]] <class 'numpy.ndarray'>\n",
      "45\n"
     ]
    }
   ],
   "source": [
    "zero_array = np.zeros(shape=(2, 3))\n",
    "print(\"zero_array de shape \",zero_array.shape,\" : \\n\",zero_array,type(zero_array))"
   ]
  },
  {
   "attachments": {},
   "cell_type": "markdown",
   "metadata": {},
   "source": [
    "### Création avec des données spécifiques"
   ]
  },
  {
   "cell_type": "code",
   "execution_count": 67,
   "metadata": {},
   "outputs": [
    {
     "name": "stdout",
     "output_type": "stream",
     "text": [
      "spe_array =  [ 0 10 20 30 40 50 60 70 80 90]\n"
     ]
    }
   ],
   "source": [
    "spe_array = np.arange(start = 0, stop = 100, step = 10)\n",
    "print(\"spe_array = \",spe_array)\n",
    "print (random.)"
   ]
  },
  {
   "attachments": {},
   "cell_type": "markdown",
   "metadata": {},
   "source": [
    "### Matrice identité"
   ]
  },
  {
   "cell_type": "code",
   "execution_count": 70,
   "metadata": {},
   "outputs": [
    {
     "name": "stdout",
     "output_type": "stream",
     "text": [
      "identity_array:\n",
      " [[1. 0. 0. 0. 0.]\n",
      " [0. 1. 0. 0. 0.]\n",
      " [0. 0. 1. 0. 0.]\n",
      " [0. 0. 0. 1. 0.]\n",
      " [0. 0. 0. 0. 1.]]\n",
      "[[1. 0. 0. 0.]\n",
      " [0. 1. 0. 0.]\n",
      " [0. 0. 1. 0.]\n",
      " [0. 0. 0. 1.]]\n"
     ]
    }
   ],
   "source": [
    "identity_array = np.identity(5)\n",
    "print(\"identity_array:\\n\", identity_array)\n",
    "print(np.eye(4))"
   ]
  }
 ],
 "metadata": {
  "kernelspec": {
   "display_name": "Python 3",
   "language": "python",
   "name": "python3"
  },
  "language_info": {
   "codemirror_mode": {
    "name": "ipython",
    "version": 3
   },
   "file_extension": ".py",
   "mimetype": "text/x-python",
   "name": "python",
   "nbconvert_exporter": "python",
   "pygments_lexer": "ipython3",
   "version": "3.11.0"
  },
  "orig_nbformat": 4
 },
 "nbformat": 4,
 "nbformat_minor": 2
}
