{
 "cells": [
  {
   "cell_type": "code",
   "execution_count": 1,
   "id": "dd1ff064-43e2-4cb0-a10e-417f5f1ef238",
   "metadata": {
    "editable": true,
    "slideshow": {
     "slide_type": ""
    },
    "tags": []
   },
   "outputs": [
    {
     "name": "stdout",
     "output_type": "stream",
     "text": [
      "root\n",
      " |-- state: string (nullable = true)\n",
      " |-- county: string (nullable = true)\n",
      " |-- age_group: string (nullable = true)\n",
      " |-- gender: string (nullable = true)\n",
      " |-- date: date (nullable = true)\n",
      " |-- cases: integer (nullable = true)\n",
      " |-- deaths: integer (nullable = true)\n",
      " |-- recovered: integer (nullable = true)\n",
      "\n"
     ]
    }
   ],
   "source": [
    "from pyspark.sql import *\n",
    "spark = SparkSession.builder.getOrCreate()\n",
    "data = spark.read.csv(\"covid_de.csv\",header=True,inferSchema=True)\n",
    "data.printSchema()\n",
    "data.createOrReplaceTempView(\"covid\")"
   ]
  },
  {
   "cell_type": "markdown",
   "id": "e1815ac3-abba-45d4-bcc8-68dfc5483b9c",
   "metadata": {},
   "source": [
    "# Récupérer la table en dataframe"
   ]
  },
  {
   "cell_type": "code",
   "execution_count": 2,
   "id": "e29522e4-abb9-4c37-bc86-67e146222d46",
   "metadata": {},
   "outputs": [
    {
     "name": "stdout",
     "output_type": "stream",
     "text": [
      "+------------------+------------------+---------+------+----------+-----+------+---------+\n",
      "|             state|            county|age_group|gender|      date|cases|deaths|recovered|\n",
      "+------------------+------------------+---------+------+----------+-----+------+---------+\n",
      "|Baden-Wuerttemberg|LK Alb-Donau-Kreis|    00-04|     F|2020-03-27|    1|     0|        1|\n",
      "|Baden-Wuerttemberg|LK Alb-Donau-Kreis|    00-04|     F|2020-03-28|    1|     0|        1|\n",
      "|Baden-Wuerttemberg|LK Alb-Donau-Kreis|    00-04|     F|2020-04-03|    1|     0|        1|\n",
      "|Baden-Wuerttemberg|LK Alb-Donau-Kreis|    00-04|     M|2020-04-05|    1|     0|        1|\n",
      "|Baden-Wuerttemberg|LK Alb-Donau-Kreis|    00-04|     M|2020-05-18|    1|     0|        1|\n",
      "|Baden-Wuerttemberg|LK Alb-Donau-Kreis|    05-14|     F|2020-03-17|    1|     0|        1|\n",
      "|Baden-Wuerttemberg|LK Alb-Donau-Kreis|    05-14|     F|2020-03-25|    1|     0|        1|\n",
      "|Baden-Wuerttemberg|LK Alb-Donau-Kreis|    05-14|     F|2020-03-26|    1|     0|        1|\n",
      "|Baden-Wuerttemberg|LK Alb-Donau-Kreis|    05-14|     F|2020-03-29|    1|     0|        1|\n",
      "|Baden-Wuerttemberg|LK Alb-Donau-Kreis|    05-14|     F|2020-03-31|    1|     0|        1|\n",
      "|Baden-Wuerttemberg|LK Alb-Donau-Kreis|    05-14|     F|2020-04-01|    1|     0|        1|\n",
      "|Baden-Wuerttemberg|LK Alb-Donau-Kreis|    05-14|     F|2020-04-09|    1|     0|        1|\n",
      "|Baden-Wuerttemberg|LK Alb-Donau-Kreis|    05-14|     F|2020-04-17|    1|     0|        1|\n",
      "|Baden-Wuerttemberg|LK Alb-Donau-Kreis|    05-14|     F|2020-04-27|    1|     0|        1|\n",
      "|Baden-Wuerttemberg|LK Alb-Donau-Kreis|    05-14|     F|2020-05-11|    1|     0|        1|\n",
      "|Baden-Wuerttemberg|LK Alb-Donau-Kreis|    05-14|     F|2020-05-23|    1|     0|        1|\n",
      "|Baden-Wuerttemberg|LK Alb-Donau-Kreis|    05-14|     M|2020-03-26|    1|     0|        1|\n",
      "|Baden-Wuerttemberg|LK Alb-Donau-Kreis|    05-14|     M|2020-03-30|    1|     0|        1|\n",
      "|Baden-Wuerttemberg|LK Alb-Donau-Kreis|    05-14|     M|2020-04-01|    2|     0|        2|\n",
      "|Baden-Wuerttemberg|LK Alb-Donau-Kreis|    05-14|     M|2020-05-23|    1|     0|        1|\n",
      "+------------------+------------------+---------+------+----------+-----+------+---------+\n",
      "only showing top 20 rows\n",
      "\n"
     ]
    }
   ],
   "source": [
    "table = spark.table(\"covid\") \n",
    "table.show()"
   ]
  },
  {
   "cell_type": "markdown",
   "id": "f13c5459-16d3-4a78-85be-9665fe4f5153",
   "metadata": {},
   "source": [
    "# Le Select"
   ]
  },
  {
   "cell_type": "code",
   "execution_count": 3,
   "id": "4d2234b6-e17a-4c3d-a028-c0f09d8fc512",
   "metadata": {},
   "outputs": [
    {
     "name": "stdout",
     "output_type": "stream",
     "text": [
      "+------------------+------------------+\n",
      "|             state|            county|\n",
      "+------------------+------------------+\n",
      "|Baden-Wuerttemberg|LK Alb-Donau-Kreis|\n",
      "|Baden-Wuerttemberg|LK Alb-Donau-Kreis|\n",
      "|Baden-Wuerttemberg|LK Alb-Donau-Kreis|\n",
      "|Baden-Wuerttemberg|LK Alb-Donau-Kreis|\n",
      "|Baden-Wuerttemberg|LK Alb-Donau-Kreis|\n",
      "|Baden-Wuerttemberg|LK Alb-Donau-Kreis|\n",
      "|Baden-Wuerttemberg|LK Alb-Donau-Kreis|\n",
      "|Baden-Wuerttemberg|LK Alb-Donau-Kreis|\n",
      "|Baden-Wuerttemberg|LK Alb-Donau-Kreis|\n",
      "|Baden-Wuerttemberg|LK Alb-Donau-Kreis|\n",
      "|Baden-Wuerttemberg|LK Alb-Donau-Kreis|\n",
      "|Baden-Wuerttemberg|LK Alb-Donau-Kreis|\n",
      "|Baden-Wuerttemberg|LK Alb-Donau-Kreis|\n",
      "|Baden-Wuerttemberg|LK Alb-Donau-Kreis|\n",
      "|Baden-Wuerttemberg|LK Alb-Donau-Kreis|\n",
      "|Baden-Wuerttemberg|LK Alb-Donau-Kreis|\n",
      "|Baden-Wuerttemberg|LK Alb-Donau-Kreis|\n",
      "|Baden-Wuerttemberg|LK Alb-Donau-Kreis|\n",
      "|Baden-Wuerttemberg|LK Alb-Donau-Kreis|\n",
      "|Baden-Wuerttemberg|LK Alb-Donau-Kreis|\n",
      "+------------------+------------------+\n",
      "only showing top 20 rows\n",
      "\n"
     ]
    }
   ],
   "source": [
    "display_country_and_state = table.select('state','county')\n",
    "display_country_and_state.show()"
   ]
  },
  {
   "cell_type": "markdown",
   "id": "eb18f799-4ac8-4936-81b4-94067b8fea26",
   "metadata": {},
   "source": [
    "# Le Distinct"
   ]
  },
  {
   "cell_type": "code",
   "execution_count": 4,
   "id": "6d5169c4-710b-4f95-85e8-7c89f2d19e1d",
   "metadata": {},
   "outputs": [
    {
     "name": "stdout",
     "output_type": "stream",
     "text": [
      "+--------------------+--------------------+\n",
      "|               state|              county|\n",
      "+--------------------+--------------------+\n",
      "|              Bayern|           SK Passau|\n",
      "|       Niedersachsen|            SK Emden|\n",
      "|              Hessen|        SK Offenbach|\n",
      "|  Baden-Wuerttemberg|             LK Calw|\n",
      "|              Bayern|       LK Ostallgaeu|\n",
      "|              Bayern|    SK Aschaffenburg|\n",
      "|         Brandenburg|         LK Prignitz|\n",
      "| Nordrhein-Westfalen| LK Rhein-Sieg-Kreis|\n",
      "|              Bayern| LK Nuernberger Land|\n",
      "| Nordrhein-Westfalen|        LK Heinsberg|\n",
      "| Nordrhein-Westfalen|            LK Wesel|\n",
      "|         Brandenburg|       LK Oder-Spree|\n",
      "|Mecklenburg-Vorpo...|LK Ludwigslust-Pa...|\n",
      "| Nordrhein-Westfalen|       LK Euskirchen|\n",
      "|              Bayern|           LK Dachau|\n",
      "|              Bayern|  LK Straubing-Bogen|\n",
      "|              Bayern|       LK Altoetting|\n",
      "|              Bayern|           SK Amberg|\n",
      "|              Hessen|  LK Lahn-Dill-Kreis|\n",
      "|              Hessen|        LK Offenbach|\n",
      "+--------------------+--------------------+\n",
      "only showing top 20 rows\n",
      "\n"
     ]
    }
   ],
   "source": [
    "display_country_and_state_distinct = display_country_and_state.distinct()\n",
    "display_country_and_state_distinct.show()"
   ]
  },
  {
   "cell_type": "markdown",
   "id": "959b1c77-0798-464f-aa32-11570cf77eff",
   "metadata": {},
   "source": [
    "# En passant directement par la table "
   ]
  },
  {
   "cell_type": "code",
   "execution_count": 5,
   "id": "5f0a8a71-b535-4a83-87d8-06f7cfae62e8",
   "metadata": {},
   "outputs": [
    {
     "name": "stdout",
     "output_type": "stream",
     "text": [
      "+--------------------+--------------------+\n",
      "|               state|              county|\n",
      "+--------------------+--------------------+\n",
      "|              Bayern|           SK Passau|\n",
      "|       Niedersachsen|            SK Emden|\n",
      "|              Hessen|        SK Offenbach|\n",
      "|  Baden-Wuerttemberg|             LK Calw|\n",
      "|              Bayern|       LK Ostallgaeu|\n",
      "|              Bayern|    SK Aschaffenburg|\n",
      "|         Brandenburg|         LK Prignitz|\n",
      "| Nordrhein-Westfalen| LK Rhein-Sieg-Kreis|\n",
      "|              Bayern| LK Nuernberger Land|\n",
      "| Nordrhein-Westfalen|        LK Heinsberg|\n",
      "| Nordrhein-Westfalen|            LK Wesel|\n",
      "|         Brandenburg|       LK Oder-Spree|\n",
      "|Mecklenburg-Vorpo...|LK Ludwigslust-Pa...|\n",
      "| Nordrhein-Westfalen|       LK Euskirchen|\n",
      "|              Bayern|           LK Dachau|\n",
      "|              Bayern|  LK Straubing-Bogen|\n",
      "|              Bayern|       LK Altoetting|\n",
      "|              Bayern|           SK Amberg|\n",
      "|              Hessen|  LK Lahn-Dill-Kreis|\n",
      "|              Hessen|        LK Offenbach|\n",
      "+--------------------+--------------------+\n",
      "only showing top 20 rows\n",
      "\n"
     ]
    }
   ],
   "source": [
    "display_country_and_state_distinct = table.select('state','county').distinct()\n",
    "display_country_and_state_distinct.show()"
   ]
  },
  {
   "cell_type": "code",
   "execution_count": 6,
   "id": "a748895a-612d-4cb1-a503-f933d4339315",
   "metadata": {
    "editable": true,
    "slideshow": {
     "slide_type": ""
    },
    "tags": []
   },
   "outputs": [],
   "source": [
    "from pyspark.sql.functions import *"
   ]
  },
  {
   "cell_type": "markdown",
   "id": "0f5a82fb-bbea-4cad-b744-47d61fc2bd9a",
   "metadata": {},
   "source": [
    "# Utilisation des filters"
   ]
  },
  {
   "cell_type": "code",
   "execution_count": 7,
   "id": "46a149d2-3612-462f-93aa-2d8336943f31",
   "metadata": {},
   "outputs": [
    {
     "name": "stdout",
     "output_type": "stream",
     "text": [
      "+------+-------------------+\n",
      "| state|             county|\n",
      "+------+-------------------+\n",
      "|Bayern|          SK Passau|\n",
      "|Bayern|      LK Ostallgaeu|\n",
      "|Bayern|   SK Aschaffenburg|\n",
      "|Bayern|LK Nuernberger Land|\n",
      "|Bayern|          LK Dachau|\n",
      "|Bayern| LK Straubing-Bogen|\n",
      "|Bayern|      LK Altoetting|\n",
      "|Bayern|          SK Amberg|\n",
      "|Bayern|         LK Bamberg|\n",
      "|Bayern|     LK Lichtenfels|\n",
      "|Bayern|      SK Regensburg|\n",
      "|Bayern|         LK Ansbach|\n",
      "|Bayern|    LK Unterallgaeu|\n",
      "|Bayern|        SK Muenchen|\n",
      "|Bayern|       SK Wuerzburg|\n",
      "|Bayern|       LK Kitzingen|\n",
      "|Bayern|         LK Kronach|\n",
      "|Bayern|      LK Deggendorf|\n",
      "|Bayern|         LK Kelheim|\n",
      "|Bayern|   LK Main-Spessart|\n",
      "+------+-------------------+\n",
      "only showing top 20 rows\n",
      "\n"
     ]
    }
   ],
   "source": [
    "show_data_from_bayern = display_country_and_state_distinct \\\n",
    "                        .filter( \\\n",
    "                            col('state') == \"Bayern\")\n",
    "show_data_from_bayern.show()"
   ]
  },
  {
   "cell_type": "code",
   "execution_count": 8,
   "id": "46c2497b-3d12-4d82-965f-f1d2dc0c5684",
   "metadata": {},
   "outputs": [
    {
     "name": "stdout",
     "output_type": "stream",
     "text": [
      "+------+-------------------+\n",
      "| state|             county|\n",
      "+------+-------------------+\n",
      "|Bayern|          SK Passau|\n",
      "|Bayern|      LK Ostallgaeu|\n",
      "|Bayern|   SK Aschaffenburg|\n",
      "|Bayern|LK Nuernberger Land|\n",
      "|Bayern|          LK Dachau|\n",
      "|Bayern| LK Straubing-Bogen|\n",
      "|Bayern|      LK Altoetting|\n",
      "|Bayern|          SK Amberg|\n",
      "|Bayern|         LK Bamberg|\n",
      "|Bayern|     LK Lichtenfels|\n",
      "|Bayern|      SK Regensburg|\n",
      "|Bayern|         LK Ansbach|\n",
      "|Bayern|    LK Unterallgaeu|\n",
      "|Bayern|        SK Muenchen|\n",
      "|Bayern|       SK Wuerzburg|\n",
      "|Bayern|       LK Kitzingen|\n",
      "|Bayern|         LK Kronach|\n",
      "|Bayern|      LK Deggendorf|\n",
      "|Bayern|         LK Kelheim|\n",
      "|Bayern|   LK Main-Spessart|\n",
      "+------+-------------------+\n",
      "only showing top 20 rows\n",
      "\n"
     ]
    }
   ],
   "source": [
    "show_data_started_by_b = display_country_and_state_distinct \\\n",
    "                        .filter( \\\n",
    "                            col('state').startswith('B') \\\n",
    "                        )\n",
    "show_data_from_bayern.show()"
   ]
  },
  {
   "cell_type": "markdown",
   "id": "bdbd74a6-9a3f-468d-9676-7d8a5bb03067",
   "metadata": {},
   "source": [
    "# Conditions avec AND"
   ]
  },
  {
   "cell_type": "code",
   "execution_count": 9,
   "id": "fa58855d-783c-4dee-af10-aec63d311c6b",
   "metadata": {},
   "outputs": [
    {
     "name": "stdout",
     "output_type": "stream",
     "text": [
      "25318\n"
     ]
    }
   ],
   "source": [
    "women_recovered = table.filter((col('gender') == 'F') & (col('recovered') == 1)).count()\n",
    "print(women_recovered) #On utilise Count pour l'affichage car ce n'est pas un Dataframe ni un RDD (integer)"
   ]
  },
  {
   "cell_type": "markdown",
   "id": "f5391579-9538-488b-bab2-925b2cfe37ef",
   "metadata": {},
   "source": [
    "# Conditions avec OR"
   ]
  },
  {
   "cell_type": "code",
   "execution_count": 10,
   "id": "b3b56e06-c455-4a0f-8831-efc4178b9083",
   "metadata": {},
   "outputs": [
    {
     "data": {
      "text/plain": [
       "28549"
      ]
     },
     "execution_count": 10,
     "metadata": {},
     "output_type": "execute_result"
    }
   ],
   "source": [
    "state = table.filter((col('state') == 'Bayern') | (col('state') == 'Hessen')).count()\n",
    "state"
   ]
  },
  {
   "cell_type": "markdown",
   "id": "4fa5e7b4-9ab9-4e35-93a9-9574bf5724bb",
   "metadata": {},
   "source": [
    "# Tri avec SORT"
   ]
  },
  {
   "cell_type": "code",
   "execution_count": 11,
   "id": "dd44365b-178e-4c82-b92f-b65840641b4b",
   "metadata": {},
   "outputs": [
    {
     "name": "stdout",
     "output_type": "stream",
     "text": [
      "+-------------------+------------------+---------+------+----------+-----+------+---------+\n",
      "|              state|            county|age_group|gender|      date|cases|deaths|recovered|\n",
      "+-------------------+------------------+---------+------+----------+-----+------+---------+\n",
      "|Nordrhein-Westfalen|StadtRegion Aachen|    00-04|     F|2020-03-20|    2|     0|        2|\n",
      "| Baden-Wuerttemberg|     LK Boeblingen|    00-04|     F|2020-04-02|    1|     0|        1|\n",
      "|    Rheinland-Pfalz|      LK Ahrweiler|    00-04|     F|2020-04-05|    1|     0|        1|\n",
      "| Baden-Wuerttemberg|           LK Calw|    00-04|     F|2020-03-23|    1|     0|        1|\n",
      "|Nordrhein-Westfalen|StadtRegion Aachen|    00-04|     F|2020-03-24|    1|     0|        1|\n",
      "| Baden-Wuerttemberg|     LK Boeblingen|    00-04|     F|2020-04-04|    1|     0|        1|\n",
      "|Nordrhein-Westfalen|      SK Wuppertal|    00-04|     F|2020-04-20|    1|     0|        1|\n",
      "| Baden-Wuerttemberg|     LK Boeblingen|    00-04|     F|2020-04-01|    1|     0|        1|\n",
      "|Nordrhein-Westfalen|StadtRegion Aachen|    00-04|     F|2020-03-26|    1|     0|        1|\n",
      "| Baden-Wuerttemberg|     LK Boeblingen|    00-04|     F|2020-04-05|    1|     0|        1|\n",
      "|Nordrhein-Westfalen|      SK Wuppertal|    00-04|     F|2020-05-05|    1|     0|        1|\n",
      "| Baden-Wuerttemberg|LK Alb-Donau-Kreis|    00-04|     F|2020-03-28|    1|     0|        1|\n",
      "|Nordrhein-Westfalen|StadtRegion Aachen|    00-04|     F|2020-05-02|    1|     0|        1|\n",
      "| Baden-Wuerttemberg|     LK Boeblingen|    00-04|     F|2020-06-06|    1|     0|        1|\n",
      "|Nordrhein-Westfalen|      SK Wuppertal|    00-04|     F|2020-06-19|    1|     0|        1|\n",
      "| Baden-Wuerttemberg|LK Alb-Donau-Kreis|    00-04|     M|2020-04-05|    1|     0|        1|\n",
      "|Nordrhein-Westfalen|StadtRegion Aachen|    00-04|     F|2020-05-08|    1|     0|        1|\n",
      "| Baden-Wuerttemberg|     LK Boeblingen|    00-04|     F|2020-07-06|    1|     0|        0|\n",
      "|Nordrhein-Westfalen|      SK Wuppertal|    00-04|     F|2020-06-25|    1|     0|        1|\n",
      "| Baden-Wuerttemberg|LK Alb-Donau-Kreis|    00-04|     F|2020-04-03|    1|     0|        1|\n",
      "+-------------------+------------------+---------+------+----------+-----+------+---------+\n",
      "only showing top 20 rows\n",
      "\n"
     ]
    }
   ],
   "source": [
    "tri = table. \\\n",
    "        sort( \\\n",
    "            col('age_group') \\\n",
    "            .asc()) \\\n",
    "            .show()"
   ]
  },
  {
   "cell_type": "markdown",
   "id": "971cd034-07fa-4fac-b13c-d6adb2bd0104",
   "metadata": {},
   "source": [
    "# Utilisation du LIMIT"
   ]
  },
  {
   "cell_type": "code",
   "execution_count": 12,
   "id": "73cac2aa-0243-4b8c-be2c-3f978e86de95",
   "metadata": {},
   "outputs": [
    {
     "name": "stdout",
     "output_type": "stream",
     "text": [
      "+------------------+------------------+---------+------+----------+-----+------+---------+\n",
      "|             state|            county|age_group|gender|      date|cases|deaths|recovered|\n",
      "+------------------+------------------+---------+------+----------+-----+------+---------+\n",
      "|Baden-Wuerttemberg|LK Alb-Donau-Kreis|    00-04|     F|2020-03-27|    1|     0|        1|\n",
      "|Baden-Wuerttemberg|LK Alb-Donau-Kreis|    00-04|     F|2020-03-28|    1|     0|        1|\n",
      "|Baden-Wuerttemberg|LK Alb-Donau-Kreis|    00-04|     F|2020-04-03|    1|     0|        1|\n",
      "|Baden-Wuerttemberg|LK Alb-Donau-Kreis|    00-04|     M|2020-04-05|    1|     0|        1|\n",
      "|Baden-Wuerttemberg|LK Alb-Donau-Kreis|    00-04|     M|2020-05-18|    1|     0|        1|\n",
      "+------------------+------------------+---------+------+----------+-----+------+---------+\n",
      "\n"
     ]
    }
   ],
   "source": [
    "limite = table.limit(5).show()"
   ]
  },
  {
   "cell_type": "markdown",
   "id": "ddd3f272-f4ee-4524-9cd8-15b68a2b7a73",
   "metadata": {},
   "source": [
    "# Les Agrégations"
   ]
  },
  {
   "cell_type": "markdown",
   "id": "2dad2743-c316-4b9b-9ca6-4498f767bb08",
   "metadata": {},
   "source": [
    "## avec GroupBy"
   ]
  },
  {
   "cell_type": "code",
   "execution_count": 13,
   "id": "5bcf2a6e-eed4-4c62-8150-8e38c84e2080",
   "metadata": {},
   "outputs": [
    {
     "name": "stdout",
     "output_type": "stream",
     "text": [
      "+------+-----+\n",
      "|gender|somme|\n",
      "+------+-----+\n",
      "|     F| 4066|\n",
      "|    NA|    5|\n",
      "|     M| 5030|\n",
      "+------+-----+\n",
      "\n"
     ]
    }
   ],
   "source": [
    "death_by_gender = table.select('gender','deaths') \\\n",
    "                    .groupby('gender') \\\n",
    "                    .agg( \\\n",
    "                        sum(col('deaths')) \\\n",
    "                        .alias('somme')\n",
    "                    ).show()"
   ]
  },
  {
   "cell_type": "code",
   "execution_count": 14,
   "id": "0155b921-3e9b-4abe-acf6-df967f0bdf3e",
   "metadata": {},
   "outputs": [
    {
     "name": "stdout",
     "output_type": "stream",
     "text": [
      "+-------------+--------------------+---------+------+----------+-----+------+---------+\n",
      "|        state|              county|age_group|gender|      date|cases|deaths|recovered|\n",
      "+-------------+--------------------+---------+------+----------+-----+------+---------+\n",
      "|       Bayern|         LK Muenchen|    60-79|    NA|2020-04-27|    1|     1|        0|\n",
      "|Niedersachsen|     Region Hannover|    35-59|    NA|2020-03-21|    1|     1|        0|\n",
      "|Niedersachsen|     Region Hannover|    60-79|    NA|2020-03-25|    1|     1|        0|\n",
      "|Niedersachsen|     Region Hannover|    80-99|    NA|2020-04-09|    1|     1|        0|\n",
      "|     Saarland|LK Stadtverband S...|    60-79|    NA|2020-04-09|    1|     1|        0|\n",
      "+-------------+--------------------+---------+------+----------+-----+------+---------+\n",
      "\n"
     ]
    }
   ],
   "source": [
    "gender = table.filter((col('gender') == 'NA') & (col('deaths') == 1))\n",
    "gender.show()"
   ]
  },
  {
   "cell_type": "markdown",
   "id": "3cb53ee4-7638-4221-b5b9-acdbe1ac55eb",
   "metadata": {},
   "source": [
    "## avec Having (sql)"
   ]
  },
  {
   "cell_type": "code",
   "execution_count": 15,
   "id": "8ca9b26f-0436-481d-bada-f158b43c58aa",
   "metadata": {},
   "outputs": [
    {
     "name": "stdout",
     "output_type": "stream",
     "text": [
      "+------+-----+\n",
      "|gender|somme|\n",
      "+------+-----+\n",
      "|     M| 5030|\n",
      "+------+-----+\n",
      "\n"
     ]
    }
   ],
   "source": [
    "death_by_gender_5K = table.select('gender','deaths') \\\n",
    "                    .groupby('gender') \\\n",
    "                    .agg( \\\n",
    "                        sum(col('deaths')) \\\n",
    "                        .alias('somme')\n",
    "                    ) \\\n",
    "                    .where(col('somme') > 5000) \\\n",
    "                    .show()"
   ]
  },
  {
   "cell_type": "markdown",
   "id": "b5dd009c-0620-4dc5-9e8c-61034972638c",
   "metadata": {},
   "source": [
    " # Ajouter une colonne"
   ]
  },
  {
   "cell_type": "code",
   "execution_count": 16,
   "id": "f3d9f76d-17d6-4502-9151-91ecedf1c9bc",
   "metadata": {},
   "outputs": [
    {
     "name": "stdout",
     "output_type": "stream",
     "text": [
      "+------------------+------------------+---------+------+----------+-----+------+---------+----+\n",
      "|             state|            county|age_group|gender|      date|cases|deaths|recovered| add|\n",
      "+------------------+------------------+---------+------+----------+-----+------+---------+----+\n",
      "|Baden-Wuerttemberg|LK Alb-Donau-Kreis|    00-04|     F|2020-03-27|    1|     0|        1|true|\n",
      "|Baden-Wuerttemberg|LK Alb-Donau-Kreis|    00-04|     F|2020-03-28|    1|     0|        1|true|\n",
      "|Baden-Wuerttemberg|LK Alb-Donau-Kreis|    00-04|     F|2020-04-03|    1|     0|        1|true|\n",
      "|Baden-Wuerttemberg|LK Alb-Donau-Kreis|    00-04|     M|2020-04-05|    1|     0|        1|true|\n",
      "|Baden-Wuerttemberg|LK Alb-Donau-Kreis|    00-04|     M|2020-05-18|    1|     0|        1|true|\n",
      "|Baden-Wuerttemberg|LK Alb-Donau-Kreis|    05-14|     F|2020-03-17|    1|     0|        1|true|\n",
      "|Baden-Wuerttemberg|LK Alb-Donau-Kreis|    05-14|     F|2020-03-25|    1|     0|        1|true|\n",
      "|Baden-Wuerttemberg|LK Alb-Donau-Kreis|    05-14|     F|2020-03-26|    1|     0|        1|true|\n",
      "|Baden-Wuerttemberg|LK Alb-Donau-Kreis|    05-14|     F|2020-03-29|    1|     0|        1|true|\n",
      "|Baden-Wuerttemberg|LK Alb-Donau-Kreis|    05-14|     F|2020-03-31|    1|     0|        1|true|\n",
      "|Baden-Wuerttemberg|LK Alb-Donau-Kreis|    05-14|     F|2020-04-01|    1|     0|        1|true|\n",
      "|Baden-Wuerttemberg|LK Alb-Donau-Kreis|    05-14|     F|2020-04-09|    1|     0|        1|true|\n",
      "|Baden-Wuerttemberg|LK Alb-Donau-Kreis|    05-14|     F|2020-04-17|    1|     0|        1|true|\n",
      "|Baden-Wuerttemberg|LK Alb-Donau-Kreis|    05-14|     F|2020-04-27|    1|     0|        1|true|\n",
      "|Baden-Wuerttemberg|LK Alb-Donau-Kreis|    05-14|     F|2020-05-11|    1|     0|        1|true|\n",
      "|Baden-Wuerttemberg|LK Alb-Donau-Kreis|    05-14|     F|2020-05-23|    1|     0|        1|true|\n",
      "|Baden-Wuerttemberg|LK Alb-Donau-Kreis|    05-14|     M|2020-03-26|    1|     0|        1|true|\n",
      "|Baden-Wuerttemberg|LK Alb-Donau-Kreis|    05-14|     M|2020-03-30|    1|     0|        1|true|\n",
      "|Baden-Wuerttemberg|LK Alb-Donau-Kreis|    05-14|     M|2020-04-01|    2|     0|        2|true|\n",
      "|Baden-Wuerttemberg|LK Alb-Donau-Kreis|    05-14|     M|2020-05-23|    1|     0|        1|true|\n",
      "+------------------+------------------+---------+------+----------+-----+------+---------+----+\n",
      "only showing top 20 rows\n",
      "\n"
     ]
    }
   ],
   "source": [
    "add_column = table.withColumn('add', lit('true'))\n",
    "add_column.show()"
   ]
  },
  {
   "cell_type": "markdown",
   "id": "9f01bd79-88cb-448c-9683-30ad230c7ce3",
   "metadata": {},
   "source": [
    " 'lit' permet de créer des constantes dans une nouvelle colonne"
   ]
  },
  {
   "cell_type": "code",
   "execution_count": null,
   "id": "32492758-223d-4687-9612-5269db0334c1",
   "metadata": {},
   "outputs": [],
   "source": []
  }
 ],
 "metadata": {
  "kernelspec": {
   "display_name": "Python 3 (ipykernel)",
   "language": "python",
   "name": "python3"
  },
  "language_info": {
   "codemirror_mode": {
    "name": "ipython",
    "version": 3
   },
   "file_extension": ".py",
   "mimetype": "text/x-python",
   "name": "python",
   "nbconvert_exporter": "python",
   "pygments_lexer": "ipython3",
   "version": "3.10.11"
  }
 },
 "nbformat": 4,
 "nbformat_minor": 5
}
