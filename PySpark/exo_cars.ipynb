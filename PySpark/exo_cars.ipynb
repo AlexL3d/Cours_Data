{
 "cells": [
  {
   "cell_type": "markdown",
   "id": "6313d457-a0be-4c70-8c9d-b265424aa441",
   "metadata": {},
   "source": [
    "### Exercice 1: Calculer la moyenne de la puissance administrative (puiss_admin_98) pour chaque marque de voiture (lib_mrq).\n",
    "\n"
   ]
  },
  {
   "cell_type": "code",
   "execution_count": 35,
   "id": "0c3f8157-739e-4ecd-a643-533b99391e6d",
   "metadata": {
    "editable": true,
    "slideshow": {
     "slide_type": ""
    },
    "tags": []
   },
   "outputs": [
    {
     "name": "stdout",
     "output_type": "stream",
     "text": [
      "root\n",
      " |-- lib_mrq: string (nullable = true)\n",
      " |-- lib_mod_doss: string (nullable = true)\n",
      " |-- lib_mod: string (nullable = true)\n",
      " |-- dscom: string (nullable = true)\n",
      " |-- cnit: string (nullable = true)\n",
      " |-- tvv: string (nullable = true)\n",
      " |-- cod_cbr: string (nullable = true)\n",
      " |-- hybride: string (nullable = true)\n",
      " |-- puiss_admin_98: integer (nullable = true)\n",
      " |-- puiss_max: string (nullable = true)\n",
      " |-- typ_boite_nb_rapp: string (nullable = true)\n",
      " |-- conso_urb: string (nullable = true)\n",
      " |-- conso_exurb: string (nullable = true)\n",
      " |-- conso_mixte: string (nullable = true)\n",
      " |-- co2: integer (nullable = true)\n",
      " |-- co_typ_1: string (nullable = true)\n",
      " |-- hc: string (nullable = true)\n",
      " |-- nox: string (nullable = true)\n",
      " |-- hcnox: string (nullable = true)\n",
      " |-- ptcl: string (nullable = true)\n",
      " |-- masse_ordma_min: integer (nullable = true)\n",
      " |-- masse_ordma_max: integer (nullable = true)\n",
      " |-- champ_v9: string (nullable = true)\n",
      " |-- date_maj: string (nullable = true)\n",
      " |-- Carrosserie: string (nullable = true)\n",
      " |-- gamme: string (nullable = true)\n",
      " |-- _c26: string (nullable = true)\n",
      " |-- _c27: string (nullable = true)\n",
      " |-- _c28: string (nullable = true)\n",
      " |-- _c29: string (nullable = true)\n",
      "\n",
      "+-------+------------------+\n",
      "|lib_mrq| moyenne puissance|\n",
      "+-------+------------------+\n",
      "|  TESLA|               1.0|\n",
      "|    MIA|               1.0|\n",
      "|  SMART| 3.923076923076923|\n",
      "|  DACIA| 5.137931034482759|\n",
      "|   LADA|               6.0|\n",
      "| SUZUKI| 6.172413793103448|\n",
      "|   FIAT|          6.296875|\n",
      "|CITROEN| 6.468181818181818|\n",
      "|   SEAT| 6.537037037037037|\n",
      "|  SKODA| 6.572519083969466|\n",
      "|    KIA| 6.597014925373134|\n",
      "|RENAULT|            6.6625|\n",
      "|PEUGEOT| 6.724137931034483|\n",
      "|HYUNDAI|6.9411764705882355|\n",
      "|  HONDA| 6.964285714285714|\n",
      "| LANCIA| 7.017241379310345|\n",
      "|   MINI|             7.144|\n",
      "| TOYOTA| 7.171428571428572|\n",
      "|   OPEL| 7.197994987468672|\n",
      "|   FORD| 7.406040268456376|\n",
      "+-------+------------------+\n",
      "only showing top 20 rows\n",
      "\n"
     ]
    }
   ],
   "source": [
    "from pyspark.sql import *\n",
    "from pyspark.sql.functions import *\n",
    "spark = SparkSession.builder.getOrCreate()\n",
    "data = spark.read.option(\"delimiter\",\";\").csv(\"car.csv\",header=True,inferSchema=True)\n",
    "data.createOrReplaceTempView(\"car\")\n",
    "data.printSchema()\n",
    "table = spark.table(\"car\") \n",
    "\n",
    "moyenne_puissance = table.select('puiss_admin_98','lib_mrq') \\\n",
    "                              .groupby('lib_mrq') \\\n",
    "                              .agg(avg(col('puiss_admin_98')) \\\n",
    "                              .alias('moyenne puissance')) \\\n",
    "                              .sort(col('moyenne puissance').asc())\n",
    "moyenne_puissance.show()"
   ]
  },
  {
   "cell_type": "markdown",
   "id": "e869a729-043d-4ca6-811f-6f043187f544",
   "metadata": {
    "editable": true,
    "slideshow": {
     "slide_type": ""
    },
    "tags": []
   },
   "source": [
    "### Exercice 2: Trouver la voiture ayant la consommation mixte (conso_mixte) la plus basse.\n",
    "\n"
   ]
  },
  {
   "cell_type": "code",
   "execution_count": 5,
   "id": "04065b2e-074f-45ea-9eaf-d0afe578ac74",
   "metadata": {},
   "outputs": [
    {
     "name": "stdout",
     "output_type": "stream",
     "text": [
      "+-------+------------+-------+--------------------+---------------+------------------+-------+-------+--------------+---------+-----------------+---------+-----------+-----------+---+-----------+-----+-----+-----+----+---------------+---------------+--------------------+--------+-----------+----------+----+----+----+----+\n",
      "|lib_mrq|lib_mod_doss|lib_mod|               dscom|           cnit|               tvv|cod_cbr|hybride|puiss_admin_98|puiss_max|typ_boite_nb_rapp|conso_urb|conso_exurb|conso_mixte|co2|   co_typ_1|   hc|  nox|hcnox|ptcl|masse_ordma_min|masse_ordma_max|            champ_v9|date_maj|Carrosserie|     gamme|_c26|_c27|_c28|_c29|\n",
      "+-------+------------+-------+--------------------+---------------+------------------+-------+-------+--------------+---------+-----------------+---------+-----------+-----------+---+-----------+-----+-----+-----+----+---------------+---------------+--------------------+--------+-----------+----------+----+----+----+----+\n",
      "|    BMW|     SERIE I|     I3|i3 avec Prolongat...|M10BM2VP0000008|BMWi-11Z416A040000|     EE|    oui|             3|       28|              V 0|     null|       null|0,600000024| 13|0,052999999|0,004|0,002| null|null|           1390|           1390|715/2007*195/2013...| mars-14|    BERLINE|INFERIEURE|null|null|null|null|\n",
      "+-------+------------+-------+--------------------+---------------+------------------+-------+-------+--------------+---------+-----------------+---------+-----------+-----------+---+-----------+-----+-----+-----+----+---------------+---------------+--------------------+--------+-----------+----------+----+----+----+----+\n",
      "\n"
     ]
    }
   ],
   "source": [
    "conso_mixte_min = table.select(min(col('conso_mixte'))).collect()[0][0]\n",
    "voiture_conso_mixte_min = table.filter(col('conso_mixte') == conso_mixte_min).show()"
   ]
  },
  {
   "cell_type": "markdown",
   "id": "602847c2-154c-430e-8a6d-dab987bf2ef0",
   "metadata": {
    "editable": true,
    "slideshow": {
     "slide_type": ""
    },
    "tags": []
   },
   "source": [
    "### Exercice 3: Filtrer les voitures dont la puissance maximale (puiss_max) est supérieure à 200 chevaux.\n",
    "\n"
   ]
  },
  {
   "cell_type": "code",
   "execution_count": 6,
   "id": "b6c4f9c9-81db-45cf-9a2b-2c8775731d9b",
   "metadata": {},
   "outputs": [
    {
     "data": {
      "text/plain": [
       "1781"
      ]
     },
     "execution_count": 6,
     "metadata": {},
     "output_type": "execute_result"
    }
   ],
   "source": [
    "voiture_puiss_max_200 = table.filter(col('puiss_max') > 200)\n",
    "voiture_puiss_max_200.count()"
   ]
  },
  {
   "cell_type": "markdown",
   "id": "1adb63ad-213f-42d3-bc16-01e06ceb9a32",
   "metadata": {},
   "source": [
    "### Exercice 4: Calculer le nombre de voitures hybrides par carrosserie.\n",
    "\n"
   ]
  },
  {
   "cell_type": "code",
   "execution_count": 7,
   "id": "5359660b-cbd0-4b2a-8abc-433bf941c6f7",
   "metadata": {
    "editable": true,
    "slideshow": {
     "slide_type": ""
    },
    "tags": []
   },
   "outputs": [
    {
     "name": "stdout",
     "output_type": "stream",
     "text": [
      "+-------------------+---------------------------+\n",
      "|        Carrosserie|nombre de voitures hybrides|\n",
      "+-------------------+---------------------------+\n",
      "|          MINISPACE|                          1|\n",
      "|            BERLINE|                        325|\n",
      "|              COUPE|                          5|\n",
      "|TS TERRAINS/CHEMINS|                         47|\n",
      "|              BREAK|                         11|\n",
      "+-------------------+---------------------------+\n",
      "\n"
     ]
    }
   ],
   "source": [
    "nb_hybride_carr = table.select('hybride','Carrosserie') \\\n",
    "                              .filter(col('hybride') == \"oui\") \\\n",
    "                              .groupby('Carrosserie') \\\n",
    "                              .agg(count(col('hybride')) \\\n",
    "                              .alias('nombre de voitures hybrides')) \\\n",
    "                              .show()"
   ]
  },
  {
   "cell_type": "markdown",
   "id": "c6c3a836-56f9-44c0-b064-22ad65a5bfa4",
   "metadata": {
    "editable": true,
    "slideshow": {
     "slide_type": ""
    },
    "tags": []
   },
   "source": [
    "### Exercice 5: Calculer le pourcentage de voitures émettant moins de 120 g/km de CO2 (co2) par gamme de voiture.\n",
    "\n"
   ]
  },
  {
   "cell_type": "code",
   "execution_count": 31,
   "id": "578b476b-8158-45f2-bcfd-f5227a0ea4e2",
   "metadata": {},
   "outputs": [
    {
     "name": "stdout",
     "output_type": "stream",
     "text": [
      "+--------------+----------------------------+\n",
      "|         gamme|nombre de voitures par gamme|\n",
      "+--------------+----------------------------+\n",
      "|     MOY-INFER|                       33438|\n",
      "|    SUPERIEURE|                        1513|\n",
      "|    ECONOMIQUE|                         269|\n",
      "|          LUXE|                        3597|\n",
      "|    INFERIEURE|                        1073|\n",
      "|     MOY-SUPER|                       15098|\n",
      "|MOY-INFERIEURE|                          56|\n",
      "+--------------+----------------------------+\n",
      "\n"
     ]
    },
    {
     "ename": "AttributeError",
     "evalue": "'NoneType' object has no attribute 'collect'",
     "output_type": "error",
     "traceback": [
      "\u001b[0;31m---------------------------------------------------------------------------\u001b[0m",
      "\u001b[0;31mAttributeError\u001b[0m                            Traceback (most recent call last)",
      "Cell \u001b[0;32mIn[31], line 7\u001b[0m\n\u001b[1;32m      1\u001b[0m nombre_voiture_par_gamme \u001b[38;5;241m=\u001b[39m table\u001b[38;5;241m.\u001b[39mselect(\u001b[38;5;124m'\u001b[39m\u001b[38;5;124mgamme\u001b[39m\u001b[38;5;124m'\u001b[39m) \\\n\u001b[1;32m      2\u001b[0m                             \u001b[38;5;241m.\u001b[39mgroupby(\u001b[38;5;124m'\u001b[39m\u001b[38;5;124mgamme\u001b[39m\u001b[38;5;124m'\u001b[39m) \\\n\u001b[1;32m      3\u001b[0m                             \u001b[38;5;241m.\u001b[39magg(count(col(\u001b[38;5;124m'\u001b[39m\u001b[38;5;124mgamme\u001b[39m\u001b[38;5;124m'\u001b[39m)) \\\n\u001b[1;32m      4\u001b[0m                             \u001b[38;5;241m.\u001b[39malias(\u001b[38;5;124m'\u001b[39m\u001b[38;5;124mnombre de voitures par gamme\u001b[39m\u001b[38;5;124m'\u001b[39m)) \\\n\u001b[1;32m      5\u001b[0m                             \u001b[38;5;241m.\u001b[39mshow()\n\u001b[0;32m----> 7\u001b[0m \u001b[38;5;28mprint\u001b[39m(\u001b[43mnombre_voiture_par_gamme\u001b[49m\u001b[38;5;241;43m.\u001b[39;49m\u001b[43mcollect\u001b[49m()[\u001b[38;5;241m1\u001b[39m][\u001b[38;5;241m1\u001b[39m])\n\u001b[1;32m      9\u001b[0m pourcentage_voiture_120g_CO2 \u001b[38;5;241m=\u001b[39m table\u001b[38;5;241m.\u001b[39mselect(\u001b[38;5;124m'\u001b[39m\u001b[38;5;124mco2\u001b[39m\u001b[38;5;124m'\u001b[39m,\u001b[38;5;124m'\u001b[39m\u001b[38;5;124mgamme\u001b[39m\u001b[38;5;124m'\u001b[39m) \\\n\u001b[1;32m     10\u001b[0m                               \u001b[38;5;241m.\u001b[39mfilter(col(\u001b[38;5;124m'\u001b[39m\u001b[38;5;124mco2\u001b[39m\u001b[38;5;124m'\u001b[39m) \u001b[38;5;241m<\u001b[39m\u001b[38;5;241m=\u001b[39m \u001b[38;5;241m120\u001b[39m ) \\\n\u001b[1;32m     11\u001b[0m                               \u001b[38;5;241m.\u001b[39mgroupby(\u001b[38;5;124m'\u001b[39m\u001b[38;5;124mgamme\u001b[39m\u001b[38;5;124m'\u001b[39m) \\\n\u001b[1;32m     12\u001b[0m                               \u001b[38;5;241m.\u001b[39magg(count(col(\u001b[38;5;124m'\u001b[39m\u001b[38;5;124mco2\u001b[39m\u001b[38;5;124m'\u001b[39m)) \\\n\u001b[1;32m     13\u001b[0m                               \u001b[38;5;241m.\u001b[39malias(\u001b[38;5;124m'\u001b[39m\u001b[38;5;124mpourcentage de voitures émettant moins de 120g/km de CO2\u001b[39m\u001b[38;5;124m'\u001b[39m)) \\\n\u001b[1;32m     14\u001b[0m                               \u001b[38;5;241m.\u001b[39mshow()\n",
      "\u001b[0;31mAttributeError\u001b[0m: 'NoneType' object has no attribute 'collect'"
     ]
    }
   ],
   "source": [
    "nombre_voiture_par_gamme = table.select('gamme') \\\n",
    "                            .groupby('gamme') \\\n",
    "                            .agg(count(col('gamme')) \\\n",
    "                            .alias('nombre de voitures par gamme')) \\\n",
    "                            .show()\n",
    "\n",
    "pourcentage_voiture_120g_CO2 = table.select('co2','gamme') \\\n",
    "                              .filter(col('co2') <= 120 ) \\\n",
    "                              .groupby('gamme') \\\n",
    "                              .agg(count(col('co2')) \\\n",
    "                              .alias('pourcentage de voitures émettant moins de 120g/km de CO2')) \\\n",
    "                              .show()"
   ]
  },
  {
   "cell_type": "markdown",
   "id": "1d6da144-b754-406f-a15c-a41a71dc4794",
   "metadata": {},
   "source": [
    "### Exercice 6: Trouver la carrosserie la plus courante parmi les voitures de chaque gamme.\n",
    "\n"
   ]
  },
  {
   "cell_type": "code",
   "execution_count": 34,
   "id": "d73bf88c-f14c-4dc5-a593-569b82079cd3",
   "metadata": {},
   "outputs": [
    {
     "name": "stdout",
     "output_type": "stream",
     "text": [
      "+----------+-------------------+------+\n",
      "|     gamme|        Carrosserie|nombre|\n",
      "+----------+-------------------+------+\n",
      "|SUPERIEURE|              BREAK|   345|\n",
      "|SUPERIEURE|          CABRIOLET|   100|\n",
      "|SUPERIEURE|TS TERRAINS/CHEMINS|    65|\n",
      "|SUPERIEURE|            BERLINE|   799|\n",
      "|SUPERIEURE|          MONOSPACE|    59|\n",
      "|SUPERIEURE|              COUPE|   145|\n",
      "+----------+-------------------+------+\n",
      "\n"
     ]
    }
   ],
   "source": [
    "nombre_carrosserie_par_gamme = table.select('Carrosserie','gamme') \\\n",
    "                               .filter(col('gamme') == \"SUPERIEURE\") \\\n",
    "                               .groupby('gamme','Carrosserie') \\\n",
    "                               .agg(count(col('Carrosserie')) \\\n",
    "                               .alias(\"nombre\")) \\\n",
    "                               .show()"
   ]
  },
  {
   "cell_type": "markdown",
   "id": "1bb84805-cfbe-4229-80f4-d7efbf371d66",
   "metadata": {},
   "source": [
    "### Exercice 7: Calculer la différence entre la puissance maximale (puiss_max) et la puissance administrative (puiss_admin_98) pour chaque voiture.\n",
    "\n"
   ]
  },
  {
   "cell_type": "code",
   "execution_count": null,
   "id": "9af5cd51-ff8b-4196-a736-9d57ff073be4",
   "metadata": {},
   "outputs": [],
   "source": [
    "diff_puissance = table.select(*)\n",
    "                "
   ]
  },
  {
   "cell_type": "markdown",
   "id": "1d8fa931-2cb8-42bc-975e-2f14ce65b068",
   "metadata": {},
   "source": [
    "### Exercice 8: Trouver les marques de voiture (lib_mrq) dont la consommation urbaine (conso_urb) est inférieure à la consommation mixte (conso_mixte).\n",
    "\n"
   ]
  },
  {
   "cell_type": "code",
   "execution_count": null,
   "id": "f1829687-6407-43f8-adaf-28e4fe29663c",
   "metadata": {},
   "outputs": [],
   "source": []
  },
  {
   "cell_type": "markdown",
   "id": "c6544838-cf72-47c0-b53c-c8c64e03a1dc",
   "metadata": {},
   "source": [
    "### Exercice 9: Calculer la moyenne des émissions de CO2 (co2) par année de mise à jour (annee_maj).\n",
    "\n"
   ]
  },
  {
   "cell_type": "code",
   "execution_count": null,
   "id": "e620f887-01f6-4802-b236-dbb6c86447e4",
   "metadata": {},
   "outputs": [],
   "source": []
  },
  {
   "cell_type": "markdown",
   "id": "a88baecb-fa37-4695-843d-d9ecb5916276",
   "metadata": {},
   "source": [
    "### Exercice 10: Trouver les voitures dont la masse ordma_max est supérieure à la moyenne de la masse ordma_max de toutes les voitures."
   ]
  },
  {
   "cell_type": "code",
   "execution_count": null,
   "id": "0f6974c1-01e2-47b5-ba83-7cec81653797",
   "metadata": {},
   "outputs": [],
   "source": []
  }
 ],
 "metadata": {
  "kernelspec": {
   "display_name": "Python 3 (ipykernel)",
   "language": "python",
   "name": "python3"
  },
  "language_info": {
   "codemirror_mode": {
    "name": "ipython",
    "version": 3
   },
   "file_extension": ".py",
   "mimetype": "text/x-python",
   "name": "python",
   "nbconvert_exporter": "python",
   "pygments_lexer": "ipython3",
   "version": "3.10.11"
  }
 },
 "nbformat": 4,
 "nbformat_minor": 5
}
