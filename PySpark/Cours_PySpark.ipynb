{
 "cells": [
  {
   "cell_type": "code",
   "execution_count": 4,
   "id": "8ca6f482-b002-4418-8784-c49b606b639a",
   "metadata": {
    "editable": true,
    "scrolled": true,
    "slideshow": {
     "slide_type": ""
    },
    "tags": []
   },
   "outputs": [
    {
     "data": {
      "text/plain": [
       "['Catalog',\n",
       " 'Column',\n",
       " 'DataFrame',\n",
       " 'DataFrameNaFunctions',\n",
       " 'DataFrameReader',\n",
       " 'DataFrameStatFunctions',\n",
       " 'DataFrameWriter',\n",
       " 'DataFrameWriterV2',\n",
       " 'GroupedData',\n",
       " 'HiveContext',\n",
       " 'Observation',\n",
       " 'PandasCogroupedOps',\n",
       " 'Row',\n",
       " 'SQLContext',\n",
       " 'SparkSession',\n",
       " 'UDFRegistration',\n",
       " 'Window',\n",
       " 'WindowSpec',\n",
       " '__all__',\n",
       " '__builtins__',\n",
       " '__cached__',\n",
       " '__doc__',\n",
       " '__file__',\n",
       " '__loader__',\n",
       " '__name__',\n",
       " '__package__',\n",
       " '__path__',\n",
       " '__spec__',\n",
       " 'catalog',\n",
       " 'column',\n",
       " 'conf',\n",
       " 'context',\n",
       " 'dataframe',\n",
       " 'functions',\n",
       " 'group',\n",
       " 'observation',\n",
       " 'pandas',\n",
       " 'readwriter',\n",
       " 'session',\n",
       " 'sql_formatter',\n",
       " 'streaming',\n",
       " 'types',\n",
       " 'udf',\n",
       " 'utils',\n",
       " 'window']"
      ]
     },
     "execution_count": 4,
     "metadata": {},
     "output_type": "execute_result"
    }
   ],
   "source": [
    "import pyspark.sql\n",
    "from pyspark.sql import *\n",
    "\n",
    "dir(pyspark.sql) #affichage des méthodes de la librairie"
   ]
  },
  {
   "cell_type": "code",
   "execution_count": 5,
   "id": "0ffac42c-2ed6-4aa6-96c7-e403116a0181",
   "metadata": {
    "editable": true,
    "slideshow": {
     "slide_type": ""
    },
    "tags": []
   },
   "outputs": [],
   "source": [
    "spark = SparkSession.builder.getOrCreate() # Création de la session (si pas créé, impossible de lancer les calculs)"
   ]
  },
  {
   "cell_type": "code",
   "execution_count": 7,
   "id": "d7f93147-1805-4f1c-bca4-30a4a23563ab",
   "metadata": {
    "editable": true,
    "slideshow": {
     "slide_type": ""
    },
    "tags": []
   },
   "outputs": [],
   "source": [
    "data = spark.read.csv(\"covid_de.csv\",header=True,inferSchema=True) #on récupère le csv et on définit les paramètres"
   ]
  },
  {
   "cell_type": "code",
   "execution_count": 8,
   "id": "0aca0ad4-98ae-4a8e-b751-c895422266bc",
   "metadata": {
    "scrolled": true
   },
   "outputs": [
    {
     "name": "stdout",
     "output_type": "stream",
     "text": [
      "root\n",
      " |-- state: string (nullable = true)\n",
      " |-- county: string (nullable = true)\n",
      " |-- age_group: string (nullable = true)\n",
      " |-- gender: string (nullable = true)\n",
      " |-- date: date (nullable = true)\n",
      " |-- cases: integer (nullable = true)\n",
      " |-- deaths: integer (nullable = true)\n",
      " |-- recovered: integer (nullable = true)\n",
      "\n"
     ]
    }
   ],
   "source": [
    "data.printSchema() #affichage du schéma du csv (colonne, type)"
   ]
  },
  {
   "cell_type": "code",
   "execution_count": 18,
   "id": "6b233a72-0beb-4417-8add-b3e563c8a612",
   "metadata": {
    "editable": true,
    "slideshow": {
     "slide_type": ""
    },
    "tags": []
   },
   "outputs": [],
   "source": [
    "data.createOrReplaceTempView(\"covid\") #On crée une vue temporaire et on la nomme"
   ]
  },
  {
   "cell_type": "code",
   "execution_count": 19,
   "id": "dc03133f-445b-4231-b8e3-7746799ba7e9",
   "metadata": {
    "editable": true,
    "slideshow": {
     "slide_type": ""
    },
    "tags": []
   },
   "outputs": [
    {
     "name": "stdout",
     "output_type": "stream",
     "text": [
      "+------------------+------------------+---------+------+----------+-----+------+---------+\n",
      "|             state|            county|age_group|gender|      date|cases|deaths|recovered|\n",
      "+------------------+------------------+---------+------+----------+-----+------+---------+\n",
      "|Baden-Wuerttemberg|LK Alb-Donau-Kreis|    00-04|     F|2020-03-27|    1|     0|        1|\n",
      "|Baden-Wuerttemberg|LK Alb-Donau-Kreis|    00-04|     F|2020-03-28|    1|     0|        1|\n",
      "|Baden-Wuerttemberg|LK Alb-Donau-Kreis|    00-04|     F|2020-04-03|    1|     0|        1|\n",
      "|Baden-Wuerttemberg|LK Alb-Donau-Kreis|    00-04|     M|2020-04-05|    1|     0|        1|\n",
      "|Baden-Wuerttemberg|LK Alb-Donau-Kreis|    00-04|     M|2020-05-18|    1|     0|        1|\n",
      "|Baden-Wuerttemberg|LK Alb-Donau-Kreis|    05-14|     F|2020-03-17|    1|     0|        1|\n",
      "|Baden-Wuerttemberg|LK Alb-Donau-Kreis|    05-14|     F|2020-03-25|    1|     0|        1|\n",
      "|Baden-Wuerttemberg|LK Alb-Donau-Kreis|    05-14|     F|2020-03-26|    1|     0|        1|\n",
      "|Baden-Wuerttemberg|LK Alb-Donau-Kreis|    05-14|     F|2020-03-29|    1|     0|        1|\n",
      "|Baden-Wuerttemberg|LK Alb-Donau-Kreis|    05-14|     F|2020-03-31|    1|     0|        1|\n",
      "|Baden-Wuerttemberg|LK Alb-Donau-Kreis|    05-14|     F|2020-04-01|    1|     0|        1|\n",
      "|Baden-Wuerttemberg|LK Alb-Donau-Kreis|    05-14|     F|2020-04-09|    1|     0|        1|\n",
      "|Baden-Wuerttemberg|LK Alb-Donau-Kreis|    05-14|     F|2020-04-17|    1|     0|        1|\n",
      "|Baden-Wuerttemberg|LK Alb-Donau-Kreis|    05-14|     F|2020-04-27|    1|     0|        1|\n",
      "|Baden-Wuerttemberg|LK Alb-Donau-Kreis|    05-14|     F|2020-05-11|    1|     0|        1|\n",
      "|Baden-Wuerttemberg|LK Alb-Donau-Kreis|    05-14|     F|2020-05-23|    1|     0|        1|\n",
      "|Baden-Wuerttemberg|LK Alb-Donau-Kreis|    05-14|     M|2020-03-26|    1|     0|        1|\n",
      "|Baden-Wuerttemberg|LK Alb-Donau-Kreis|    05-14|     M|2020-03-30|    1|     0|        1|\n",
      "|Baden-Wuerttemberg|LK Alb-Donau-Kreis|    05-14|     M|2020-04-01|    2|     0|        2|\n",
      "|Baden-Wuerttemberg|LK Alb-Donau-Kreis|    05-14|     M|2020-05-23|    1|     0|        1|\n",
      "+------------------+------------------+---------+------+----------+-----+------+---------+\n",
      "only showing top 20 rows\n",
      "\n"
     ]
    }
   ],
   "source": [
    "request = spark.sql(\"select * from covid\") #Création de la requête\n",
    "request.show() #Affichage du résultat de la requête"
   ]
  },
  {
   "cell_type": "markdown",
   "id": "993ce51a-ac77-41a9-85f4-065c9f29638e",
   "metadata": {},
   "source": []
  }
 ],
 "metadata": {
  "kernelspec": {
   "display_name": "Python 3 (ipykernel)",
   "language": "python",
   "name": "python3"
  },
  "language_info": {
   "codemirror_mode": {
    "name": "ipython",
    "version": 3
   },
   "file_extension": ".py",
   "mimetype": "text/x-python",
   "name": "python",
   "nbconvert_exporter": "python",
   "pygments_lexer": "ipython3",
   "version": "3.10.11"
  }
 },
 "nbformat": 4,
 "nbformat_minor": 5
}
