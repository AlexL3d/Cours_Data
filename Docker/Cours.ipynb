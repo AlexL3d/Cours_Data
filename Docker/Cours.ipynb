{
 "cells": [
  {
   "attachments": {},
   "cell_type": "markdown",
   "metadata": {},
   "source": [
    "# Cours Docker"
   ]
  },
  {
   "attachments": {},
   "cell_type": "markdown",
   "metadata": {},
   "source": [
    "### Historique"
   ]
  },
  {
   "attachments": {},
   "cell_type": "markdown",
   "metadata": {},
   "source": [
    "Conteneur isolé pour application et ses dépendances\n",
    "\n",
    "Repose sur un Kernel Linux\n",
    "Permet de lancer des environnements isolés\n",
    "Comparable à la virtualisation mais en moins gourmand\n",
    "\n",
    "Avant 2000, un serveur (machine) par appli (mail, web, legacy apps) (BAREMETAL)\n",
    "Difficile d'estimer la puissance nécessaire => résultat : serveurs sous-exploités\n",
    "Coût important surtout si sur-estimation du besoin\n",
    "Sous-estimer la capacité => réacheter du matériel\n",
    "\n",
    "La virtualisation permet de lancer différents evironnements sur une même machine (Segmentation de la machine en plusieurs sous-machines virtuelles).\n",
    "Il fallait installer un OS pour chaque serveur (installations redondantes et lourdes), OS qui pouvait accueillir un contenu différent.\n",
    "Computerception :\n",
    "Un hyperviseur(un par machine) qui gère entre le noyau Linux et l'OS Windows\n",
    "Les avantages : Allouer une partie de chaque ressource à chaque VM, la puissance peut-être réadaptée (manuellement), contient plusieurs OS dans une seule machine \n",
    "Les inconvénients : ressource allouée n'est plus dispo pour les autres, installation d'un OS par VM, les images parfois lourdes et difficilement transportables"
   ]
  },
  {
   "attachments": {},
   "cell_type": "markdown",
   "metadata": {},
   "source": [
    "### Définition de Docker"
   ]
  },
  {
   "attachments": {},
   "cell_type": "markdown",
   "metadata": {},
   "source": [
    "Installation d'un seul OS pour chaque conteneur\n",
    "Installation des librairies communes une seule fois pour différentes applis\n",
    "Plus besoin de bloquer de ressouces pour un conteneur et facilement transportable car image plus petite (plus d'OS à réinstaller, les fichiers etc...)\n",
    "Capacité : Entre qlq centaines de Mo à une centaine de Go"
   ]
  },
  {
   "attachments": {},
   "cell_type": "markdown",
   "metadata": {},
   "source": [
    "### Lexique utile"
   ]
  },
  {
   "attachments": {},
   "cell_type": "markdown",
   "metadata": {},
   "source": [
    "Docker : le programme qui crée les conteneurs\n",
    "Dockerhub : désigne la librairie de conteneur en ligne\n",
    "Moteur Docker : exécute les conteneurs, gère l'isolation(gestion des trucs en commun entre conteneurs), sécurise les conteneurs(accès, interface), gère les ressources\n",
    "Client Docker : connexion au moteur, installable en local ou distant, utilisation en lignes de commandes ou graphique (pilotable par plusieurs collabs)\n",
    "Image Docker : Lecture seule, téléchargeable ou fabriquée, doit être présente sur le serveur qui éxecute le client, distribuée par des registres, est comme une classe en POO (moule)\n",
    "Conteneur : Espace d'éxecution, \"instance\" d'une image Docker, contient une appli et ses dépendances, complet, indépendant, re-déployable"
   ]
  },
  {
   "attachments": {},
   "cell_type": "markdown",
   "metadata": {},
   "source": [
    "### Fonctionnement général"
   ]
  },
  {
   "attachments": {},
   "cell_type": "markdown",
   "metadata": {},
   "source": [
    "1 : Le client se connecte à l'hôte et soumet la requête de création de conteneur via une image\n",
    "2 : Docker Daemon (moteur de Docker) vérifie la présence de l'image et la télécharge si besoin\n",
    "3 : Création du conteneur à partir de l'image"
   ]
  },
  {
   "attachments": {},
   "cell_type": "markdown",
   "metadata": {},
   "source": [
    "### Exemple"
   ]
  },
  {
   "attachments": {},
   "cell_type": "markdown",
   "metadata": {},
   "source": [
    "Une entreprise doit déployer une appli\n",
    "Le dév installe les outils dont il a besoin en local et crée l'app. Envoi à un testeur.\n",
    "Avec Docker, on envoie juste l'image sans config tous les outils etc. Alors qu'il aurait du tout réinstaller avant de pouvoir test."
   ]
  },
  {
   "attachments": {},
   "cell_type": "markdown",
   "metadata": {},
   "source": [
    "### Installation\n"
   ]
  },
  {
   "attachments": {},
   "cell_type": "markdown",
   "metadata": {},
   "source": [
    "Grâce au Kernel Linux et au WSL\n",
    "WSL et Hyper-V: Virtualisation à autoriser dans le BIOS, WSL2 à installer si pas sur Linux, installation de Hyper-V quand Docker installé\n",
    "Téléchargement sur le site"
   ]
  },
  {
   "attachments": {},
   "cell_type": "markdown",
   "metadata": {},
   "source": [
    "### Initiation"
   ]
  },
  {
   "attachments": {},
   "cell_type": "markdown",
   "metadata": {},
   "source": [
    "##### Cycle de base"
   ]
  },
  {
   "attachments": {},
   "cell_type": "markdown",
   "metadata": {},
   "source": [
    "Conteneur lancé\n",
    "Processus spécifique éxecuté\n",
    "Fin une fois la tâche terminée\n",
    "Le conteneur reste présent mais avec l'état \"terminé\" et n'est plus en mémoire"
   ]
  },
  {
   "attachments": {},
   "cell_type": "markdown",
   "metadata": {},
   "source": [
    "### Exemples techniques"
   ]
  },
  {
   "attachments": {},
   "cell_type": "markdown",
   "metadata": {},
   "source": [
    "##### Hello World"
   ]
  },
  {
   "cell_type": "code",
   "execution_count": null,
   "metadata": {
    "vscode": {
     "languageId": "powershell"
    }
   },
   "outputs": [],
   "source": [
    "docker run hello-world"
   ]
  },
  {
   "attachments": {},
   "cell_type": "markdown",
   "metadata": {},
   "source": [
    "##### Docker GettingStarted"
   ]
  },
  {
   "cell_type": "code",
   "execution_count": null,
   "metadata": {
    "vscode": {
     "languageId": "powershell"
    }
   },
   "outputs": [],
   "source": [
    "docker run -d -p 80:80 docker/getting-started"
   ]
  },
  {
   "attachments": {},
   "cell_type": "markdown",
   "metadata": {},
   "source": [
    "-d : paramètre pour lancer le conteneur en mode detached\n",
    "-p : paramètre pour spécifier depuis quel port l'appli sera dispo => Host:conteneur\n",
    "--name : attribution du nom du conteneur (sinon, Docker en génère un)\n",
    "\n",
    "En cliquant sur le port sur l'appli Docker => On arrive dans le conteneur, initiation à Docker avec les manips, les bonnes pratiques etc.. dans le conteneur\n"
   ]
  },
  {
   "attachments": {},
   "cell_type": "markdown",
   "metadata": {},
   "source": [
    "### Les Images"
   ]
  },
  {
   "attachments": {},
   "cell_type": "markdown",
   "metadata": {},
   "source": [
    "Les images sont des templates en lecture seule permettant de construire des conteneurs\n",
    "Constituées de plusieurs couches\n",
    "\n",
    "Une image est créée grâce à un fichier \"Dockerfile\"\n",
    "Dockerfile : un \"script\" qui contient les instructions\n",
    "Une fois créé, on pourra effectuer un build de l'image\n",
    "\n",
    "Chaque instruction créera une couche de l'image (limite à 127 couches)\n",
    "Chaque couche peut être : ajout d'un user, installation d'un pgm, MAJ du système, tout ce qui impacte le système de fichier Linux\n",
    "\n",
    "LAYERCEPTION : chaque image peut appeler une image déjà construite qui peut appeler une image.....\n",
    "Le conteneur sera la dernière couche par dessus toutes les autres qui les instanciera\n",
    "\n",
    "Si on modifie un fichier d'une couche inférieure via le conteneur, on fait une copie de ce fichier dans une couche haute afin de bosser dessus\n",
    "\n",
    "Chaque couche = chaque modifs pour fabriquer l'environnement"
   ]
  },
  {
   "attachments": {},
   "cell_type": "markdown",
   "metadata": {},
   "source": [
    "### Commandes de base"
   ]
  },
  {
   "cell_type": "code",
   "execution_count": null,
   "metadata": {
    "vscode": {
     "languageId": "powershell"
    }
   },
   "outputs": [],
   "source": [
    "docker [contexte] <verb> <cible> [--options]"
   ]
  },
  {
   "attachments": {},
   "cell_type": "markdown",
   "metadata": {},
   "source": [
    "'[x]' paramètre facultatif\n",
    "'<x>' paramètre obligatoire"
   ]
  },
  {
   "cell_type": "code",
   "execution_count": null,
   "metadata": {
    "vscode": {
     "languageId": "powershell"
    }
   },
   "outputs": [],
   "source": [
    "docker images --help"
   ]
  },
  {
   "attachments": {},
   "cell_type": "markdown",
   "metadata": {},
   "source": [
    "Permet de voir les options et le descriptif"
   ]
  },
  {
   "attachments": {},
   "cell_type": "markdown",
   "metadata": {},
   "source": [
    "Liste des images téléchargées localement:\n",
    "docker images --help\n",
    "\n",
    "Recherche une image en ligne :\n",
    "docker search <image>"
   ]
  },
  {
   "attachments": {},
   "cell_type": "markdown",
   "metadata": {},
   "source": [
    "Téléchargement de l'image"
   ]
  },
  {
   "cell_type": "code",
   "execution_count": null,
   "metadata": {
    "vscode": {
     "languageId": "powershell"
    }
   },
   "outputs": [],
   "source": [
    "docker pull <image>"
   ]
  },
  {
   "attachments": {},
   "cell_type": "markdown",
   "metadata": {},
   "source": [
    "Par défaut, c'est le DL de la dernière version (img:latest)\n",
    "Sinon, il suffit de le renseigner (img:7.12.28)"
   ]
  },
  {
   "cell_type": "code",
   "execution_count": null,
   "metadata": {
    "vscode": {
     "languageId": "powershell"
    }
   },
   "outputs": [],
   "source": [
    "docker pull <image>:<version>"
   ]
  },
  {
   "attachments": {},
   "cell_type": "markdown",
   "metadata": {},
   "source": [
    "Supprimer une image si elle n'est pas utilisée par un conteneur (supprime la dernière version présente)"
   ]
  },
  {
   "cell_type": "code",
   "execution_count": null,
   "metadata": {
    "vscode": {
     "languageId": "powershell"
    }
   },
   "outputs": [],
   "source": [
    "docker rmi <image>"
   ]
  },
  {
   "attachments": {},
   "cell_type": "markdown",
   "metadata": {},
   "source": [
    "Supprimer une image utilisée par un conteneur (forcé)"
   ]
  },
  {
   "cell_type": "code",
   "execution_count": null,
   "metadata": {
    "vscode": {
     "languageId": "powershell"
    }
   },
   "outputs": [],
   "source": [
    "docker rmi -f <image>"
   ]
  },
  {
   "attachments": {},
   "cell_type": "markdown",
   "metadata": {},
   "source": [
    "Inspecter une image : informations contenues par l'image"
   ]
  },
  {
   "cell_type": "code",
   "execution_count": null,
   "metadata": {
    "vscode": {
     "languageId": "powershell"
    }
   },
   "outputs": [],
   "source": [
    "docker image inspect"
   ]
  },
  {
   "attachments": {},
   "cell_type": "markdown",
   "metadata": {},
   "source": [
    "### Les Conteneurs"
   ]
  },
  {
   "attachments": {},
   "cell_type": "markdown",
   "metadata": {},
   "source": [
    "Renommer : docker container rename ancien_nom nouveau_nom"
   ]
  },
  {
   "attachments": {},
   "cell_type": "markdown",
   "metadata": {},
   "source": [
    "Lister des conteneurs en cours d'utilisation"
   ]
  },
  {
   "cell_type": "code",
   "execution_count": null,
   "metadata": {
    "vscode": {
     "languageId": "powershell"
    }
   },
   "outputs": [],
   "source": [
    "docker ps"
   ]
  },
  {
   "attachments": {},
   "cell_type": "markdown",
   "metadata": {},
   "source": [
    "avec l'option -a : on affiche tous les conteneurs, existants mais éteints"
   ]
  },
  {
   "attachments": {},
   "cell_type": "markdown",
   "metadata": {},
   "source": [
    "### Arrêt"
   ]
  },
  {
   "attachments": {},
   "cell_type": "markdown",
   "metadata": {},
   "source": [
    "Arrêter un docker : docker stop -t \n",
    "-t permettant le timeout\n",
    "on peut faire : docker stop conteneur1 conteneur2 conteneur3 conteneur4\n",
    "\n",
    "Arrêt Brutal ! \n",
    "docker container kill"
   ]
  },
  {
   "attachments": {},
   "cell_type": "markdown",
   "metadata": {},
   "source": [
    "### Suppression "
   ]
  },
  {
   "attachments": {},
   "cell_type": "markdown",
   "metadata": {},
   "source": [
    "docker container rm Nom_conteneur"
   ]
  },
  {
   "attachments": {},
   "cell_type": "markdown",
   "metadata": {},
   "source": [
    "### Créer un conteneur (pas démarré automatiquement)\n"
   ]
  },
  {
   "cell_type": "code",
   "execution_count": null,
   "metadata": {
    "vscode": {
     "languageId": "powershell"
    }
   },
   "outputs": [],
   "source": [
    "docker container create [OPTIONS] <image> [COMMAND] [ARG]"
   ]
  },
  {
   "attachments": {},
   "cell_type": "markdown",
   "metadata": {},
   "source": [
    "Exercice : créer 3 conteneurs Nginx, les renommer, les démarrer et donner leurs adresses IP"
   ]
  },
  {
   "cell_type": "code",
   "execution_count": null,
   "metadata": {
    "vscode": {
     "languageId": "powershell"
    }
   },
   "outputs": [],
   "source": [
    "docker create -it -p 80:80 nginx\n",
    "docker create -it -p 81:80 nginx\n",
    "docker create -it -p 82:80 nginx\n",
    "\n",
    "docker rename 051d4b4d6380c090b025080ed5b7520326e484cef6928fc647325ed9cb0bf525 NG1\n",
    "docker rename 6c7d8cf85a3f09a67dcb956c9a22a5d1703e70c6272d1917e7aa8d4f1a668fca NG2\n",
    "docker rename 783b41fb2f846a3f8a330cd8290f69a3d4455074c7090d1831f7b8929a37ff16 NG3\n",
    "\n",
    "docker start NG1 NG2 NG3\n",
    "\n",
    "docker inspect --format='{{.NetworkSettings.IPAddress}}' NG1\n",
    "docker inspect --format='{{.NetworkSettings.IPAddress}}' NG2\n",
    "docker inspect --format='{{.NetworkSettings.IPAddress}}' NG3"
   ]
  },
  {
   "attachments": {},
   "cell_type": "markdown",
   "metadata": {},
   "source": [
    "Suppression de tous les conteneurs arrêtés (marche aussi avec les images)"
   ]
  },
  {
   "cell_type": "code",
   "execution_count": null,
   "metadata": {
    "vscode": {
     "languageId": "powershell"
    }
   },
   "outputs": [],
   "source": [
    "docker container prune"
   ]
  },
  {
   "attachments": {},
   "cell_type": "markdown",
   "metadata": {},
   "source": [
    "### Les Volumes"
   ]
  },
  {
   "attachments": {},
   "cell_type": "markdown",
   "metadata": {},
   "source": [
    "Quand on met des données dans un conteneur et qu'on le supprime, on perd ces données.\n",
    "\n",
    "Les volumes permettent la persistance des données et le partage des données"
   ]
  },
  {
   "attachments": {},
   "cell_type": "markdown",
   "metadata": {},
   "source": [
    "Création d'un volume"
   ]
  },
  {
   "cell_type": "code",
   "execution_count": null,
   "metadata": {
    "vscode": {
     "languageId": "powershell"
    }
   },
   "outputs": [],
   "source": [
    "docker volume create monSuperVolume"
   ]
  },
  {
   "attachments": {},
   "cell_type": "markdown",
   "metadata": {},
   "source": [
    "A ce moment là, le volume est créé dans les métadonnées de Docker mais tant qu'on ne le relie à rien, il n'est pas présent physiquement sur mon PC"
   ]
  },
  {
   "attachments": {},
   "cell_type": "markdown",
   "metadata": {},
   "source": [
    "Liste des volumes"
   ]
  },
  {
   "cell_type": "code",
   "execution_count": null,
   "metadata": {
    "vscode": {
     "languageId": "powershell"
    }
   },
   "outputs": [],
   "source": [
    "docker volume ls"
   ]
  },
  {
   "attachments": {},
   "cell_type": "markdown",
   "metadata": {},
   "source": [
    "Suppression des volumes"
   ]
  },
  {
   "cell_type": "code",
   "execution_count": null,
   "metadata": {
    "vscode": {
     "languageId": "powershell"
    }
   },
   "outputs": [],
   "source": [
    "docker rm NomDuVolume"
   ]
  },
  {
   "attachments": {},
   "cell_type": "markdown",
   "metadata": {},
   "source": [
    "Création d'un conteneur avec son volume associé"
   ]
  },
  {
   "cell_type": "code",
   "execution_count": null,
   "metadata": {
    "vscode": {
     "languageId": "powershell"
    }
   },
   "outputs": [],
   "source": [
    "docker run -it --name NomDuConteneur -v NomDuVolume:/Répertoire ImageDuConteneur"
   ]
  },
  {
   "attachments": {},
   "cell_type": "markdown",
   "metadata": {},
   "source": [
    "Exemple :"
   ]
  },
  {
   "cell_type": "code",
   "execution_count": null,
   "metadata": {
    "vscode": {
     "languageId": "powershell"
    }
   },
   "outputs": [],
   "source": [
    "docker run -dit --name Ubu2 -v newVolume:/data ubuntu\n",
    "docker volume ls\n",
    "docker volume inspect newVolume\n",
    "docker exec -it Ubu2 bash #pour ouvrir un terminal dans le conteneur Ubuntu"
   ]
  },
  {
   "cell_type": "code",
   "execution_count": null,
   "metadata": {
    "vscode": {
     "languageId": "powershell"
    }
   },
   "outputs": [],
   "source": [
    "docker run -dit --name Ubu -v C:\\Users\\Administrateur\\Documents\\Formation_DATA\\TDD:/data ubuntu #pour relier un dossier physique à un dossier dans le conteneur\n",
    "-v CheminLocalAbsolu:/FolderDuConteneur"
   ]
  },
  {
   "attachments": {},
   "cell_type": "markdown",
   "metadata": {},
   "source": [
    "### Les Networks"
   ]
  },
  {
   "attachments": {},
   "cell_type": "markdown",
   "metadata": {},
   "source": [
    "Communication entre conteneurs et à l'extérieur des conteneurs\n",
    "Isoler les conteneurs et les sécuriser\n",
    "Les différents types de réseau sont appelés Drivers"
   ]
  },
  {
   "attachments": {},
   "cell_type": "markdown",
   "metadata": {},
   "source": [
    "##### Type de réseau : Bridge"
   ]
  },
  {
   "attachments": {},
   "cell_type": "markdown",
   "metadata": {},
   "source": [
    "Quand on ne configure rien, le conteneur sera dans un réseau Bridge.\n",
    "Ce type de réseau est automatiquement relié au réseau local.\n",
    "Une IP dans le Bridge n'est pas une IP dans mon réseau local.\n",
    "\n",
    "Connexion directe entre le conteneur et internet\n",
    "Utilise la connexion physique du PC\n",
    "Connexion par défaut"
   ]
  },
  {
   "attachments": {},
   "cell_type": "markdown",
   "metadata": {},
   "source": [
    "##### Type de réseau : None"
   ]
  },
  {
   "attachments": {},
   "cell_type": "markdown",
   "metadata": {},
   "source": [
    "Relier à aucun autre réseau (local et distant)\n",
    "Conteneurs isolés dans un réseau unique, même isolés entre eux\n",
    "On peut contourner le problème avec des volumes"
   ]
  },
  {
   "attachments": {},
   "cell_type": "markdown",
   "metadata": {},
   "source": [
    "##### Type de réseau : Host"
   ]
  },
  {
   "attachments": {},
   "cell_type": "markdown",
   "metadata": {},
   "source": [
    "Branché directement sur le réseau local\n",
    "Le réseau host est un réseau parallèle au réseau local.\n",
    "Les IP attribuées en host sont obligatoirement différentes de celles sur mon réseau local car on est sur le même réseau.\n",
    "Les conteneurs utilisent la meme IP que celui de la machine.\n",
    "On ne peut pas différencier le conteneur de la machine qui l'héberge.\n",
    "le driver Host existe déjà donc on ne peut pas en créer un second."
   ]
  },
  {
   "attachments": {},
   "cell_type": "markdown",
   "metadata": {},
   "source": [
    "##### Type de réseau : Overlay"
   ]
  },
  {
   "attachments": {},
   "cell_type": "markdown",
   "metadata": {},
   "source": [
    "Réseau à part de Docker et de la machine physique sur lequel on peut brancher des réseaux.\n",
    "Il travaille avec son propre routeur externe.\n",
    "On peut mettre des conteneurs sur un réseau Overlay alors que les conteneurs ne sont pas sur les mêmes machines."
   ]
  },
  {
   "attachments": {},
   "cell_type": "markdown",
   "metadata": {},
   "source": [
    "##### Type de réseau : MacVlan"
   ]
  },
  {
   "attachments": {},
   "cell_type": "markdown",
   "metadata": {},
   "source": [
    "Réseaux reliés ensemble via une passerelle sur un réseau local.\n",
    "Ces différents réseaux peuvent être des réseaux cités ci-dessus.\n",
    "Utiles pour des applis connectées à internet.\n",
    "Attribue une adresse MAC aux conteneurs.\n",
    "On peut donc attribuer un VLAN au conteneur sur nos équipements physiques."
   ]
  },
  {
   "cell_type": "code",
   "execution_count": null,
   "metadata": {
    "vscode": {
     "languageId": "powershell"
    }
   },
   "outputs": [],
   "source": [
    "docker network create --driver TypeDuDriver NomDuDriver"
   ]
  },
  {
   "attachments": {},
   "cell_type": "markdown",
   "metadata": {},
   "source": [
    "### Déconnecter un réseau"
   ]
  },
  {
   "cell_type": "code",
   "execution_count": null,
   "metadata": {
    "vscode": {
     "languageId": "powershell"
    }
   },
   "outputs": [],
   "source": [
    "docker network disconnect NomDuRéseau NomDuConteneur"
   ]
  },
  {
   "attachments": {},
   "cell_type": "markdown",
   "metadata": {},
   "source": [
    "### Création du réseau"
   ]
  },
  {
   "cell_type": "code",
   "execution_count": null,
   "metadata": {
    "vscode": {
     "languageId": "powershell"
    }
   },
   "outputs": [],
   "source": [
    "docker run -dit --name NomDuConteneur --net=NomDuRéseau Image"
   ]
  },
  {
   "attachments": {},
   "cell_type": "markdown",
   "metadata": {},
   "source": [
    "### Connexion au réseau"
   ]
  },
  {
   "cell_type": "code",
   "execution_count": null,
   "metadata": {
    "vscode": {
     "languageId": "powershell"
    }
   },
   "outputs": [],
   "source": [
    "docker network connect NomDuRéseau NomDuConteneur"
   ]
  }
 ],
 "metadata": {
  "kernelspec": {
   "display_name": "Python 3",
   "language": "python",
   "name": "python3"
  },
  "language_info": {
   "codemirror_mode": {
    "name": "ipython",
    "version": 3
   },
   "file_extension": ".py",
   "mimetype": "text/x-python",
   "name": "python",
   "nbconvert_exporter": "python",
   "pygments_lexer": "ipython3",
   "version": "3.11.0"
  },
  "orig_nbformat": 4
 },
 "nbformat": 4,
 "nbformat_minor": 2
}
